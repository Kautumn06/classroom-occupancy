{
 "cells": [
  {
   "cell_type": "code",
   "execution_count": 1,
   "metadata": {},
   "outputs": [],
   "source": [
    "%matplotlib inline"
   ]
  },
  {
   "cell_type": "code",
   "execution_count": 2,
   "metadata": {},
   "outputs": [],
   "source": [
    "import numpy as np\n",
    "import pandas as pd\n",
    "\n",
    "import matplotlib.dates as md\n",
    "import matplotlib.pyplot as plt\n",
    "import matplotlib.ticker as tkr\n",
    "import seaborn as sns\n",
    "\n",
    "from yellowbrick.target import ClassBalance\n",
    "\n",
    "sns.set()"
   ]
  },
  {
   "cell_type": "markdown",
   "metadata": {},
   "source": [
    "### Visualization Functions\n",
    "\n",
    "The following functions will be used throughout this notebook to visualize the data for each of the sensors."
   ]
  },
  {
   "cell_type": "code",
   "execution_count": 3,
   "metadata": {},
   "outputs": [],
   "source": [
    "def lineplot(data, title, x_label, y_label):\n",
    "    _, ax = plt.subplots()\n",
    "    \n",
    "    ax.boxplot(data)\n",
    "    \n",
    "    ax.set_title(title)\n",
    "    ax.set_xlabel(x_label)\n",
    "    ax.set_ylabel(y_label)"
   ]
  },
  {
   "cell_type": "code",
   "execution_count": 4,
   "metadata": {},
   "outputs": [],
   "source": [
    "def plotBoxplots(df, column, title):\n",
    "    \"\"\"Plot boxplots for each day of data.\"\"\"\n",
    "    \n",
    "    # Create dataframe with a daily PeriodIndex\n",
    "    df_period = df.to_period(freq='D')\n",
    "    \n",
    "    # Boxplots for daily sensor data\n",
    "    fig, ax = plt.subplots(figsize=(16,8))\n",
    "    \n",
    "    sns.boxplot(\n",
    "        x=df_period.index, y=column, data=df_period,\n",
    "        ax=ax, palette=sns.color_palette('RdBu', 10)\n",
    "    )\n",
    "    \n",
    "    # Set the plot title\n",
    "    ax.set_title(title, fontsize=22)\n",
    "    \n",
    "    # Set the x-axis and y-axis labels\n",
    "    ax.set_xlabel('Date', fontsize=14)\n",
    "    ax.set_ylabel(title, fontsize=14)\n",
    "    \n",
    "    # Create list of dates for the x-ticks labels\n",
    "    labels = (\n",
    "        ['March 25', 'April 1', 'April 8', 'April 22', 'April 29',\n",
    "         'May 5', 'May 6', 'May 12', 'May 13', 'June 3', 'June 10']\n",
    "    )\n",
    "    \n",
    "    # Set x-ticks labels\n",
    "    ax.set_xticklabels(labels, size=12)\n",
    "\n",
    "    # Show plot\n",
    "    plt.show()"
   ]
  },
  {
   "cell_type": "code",
   "execution_count": 5,
   "metadata": {},
   "outputs": [],
   "source": [
    "def plotHistogram(df, column, title):\n",
    "    \"\"\"Plot a histogram of the sensor data.\"\"\"\n",
    "    \n",
    "    # Calculate number of hist bins\n",
    "    n_data = len(df[column])\n",
    "    n_bins = int(np.sqrt(n_data))\n",
    "    \n",
    "    fig, ax = plt.subplots()\n",
    "    \n",
    "    ax.hist(\n",
    "            df[column], bins=n_bins,\n",
    "            range=(df[column].min(), df[column].max()))\n",
    "    \n",
    "    # Set the plot title\n",
    "    ax.set_title(title, size=18)\n",
    "    \n",
    "    # Set the ylabel\n",
    "    ax.set_ylabel('Count')\n",
    "    \n",
    "    # Set the x-ticks and y-ticks parameters\n",
    "    ax.xaxis.set_major_formatter(\n",
    "        tkr.FuncFormatter(lambda x,  p: format(int(x), ',')))\n",
    "    \n",
    "    ax.yaxis.set_major_formatter(\n",
    "        tkr.FuncFormatter(lambda y,  p: format(int(y), ',')))\n",
    "    \n",
    "    # Show plot\n",
    "    plt.show()"
   ]
  },
  {
   "cell_type": "markdown",
   "metadata": {},
   "source": [
    "# Import & Clean Sensor Data\n",
    "\n",
    "As a student in Georgetown University's Data Science Certificate Program, I worked with four other students on a semester long Capstone project that used Raspberry Pi 3 Model B and other devices to capture sensor data from our classroom. My primary role on the team involved cleaning the data and building the machine learning models.\n",
    "\n",
    "In this notebook, I'll ingest the data and clean each sensor separately, since this will make it easier to explore the data and to identify potential outliers. Once finished, I will concatenate the individual DataFrames and backfill any missing data."
   ]
  },
  {
   "cell_type": "markdown",
   "metadata": {},
   "source": [
    "## Data Ingestion\n",
    "\n",
    "The `sensor_data.csv` file contains 46,275 observations and contains the following features: location, location_CO2, temperature, humidity, sound, bluetooth devices, and non-personal bluetooth devices."
   ]
  },
  {
   "cell_type": "code",
   "execution_count": 6,
   "metadata": {},
   "outputs": [],
   "source": [
    "# Read csv file in as a Pandas DataFrame with a DateTimeIndex: df\n",
    "df = pd.read_csv('../data/sensor_data.csv', index_col='datetime', parse_dates=True)\n",
    "\n",
    "df.columns = [\n",
    "    'loc', 'loc2', 'temperature', 'humidity', 'co2', 'light',\n",
    "    'sound', 'bluetooth_devices', 'nonpersonal_bluetooth'\n",
    "]"
   ]
  },
  {
   "cell_type": "code",
   "execution_count": 7,
   "metadata": {},
   "outputs": [
    {
     "name": "stdout",
     "output_type": "stream",
     "text": [
      "<class 'pandas.core.frame.DataFrame'>\n",
      "DatetimeIndex: 46275 entries, 2017-03-25 09:05:58 to 2017-06-10 16:47:05\n",
      "Data columns (total 9 columns):\n",
      "loc                      46275 non-null object\n",
      "loc2                     46275 non-null object\n",
      "temperature              46275 non-null float64\n",
      "humidity                 46275 non-null float64\n",
      "co2                      46275 non-null float64\n",
      "light                    46275 non-null float64\n",
      "sound                    46275 non-null float64\n",
      "bluetooth_devices        46275 non-null int64\n",
      "nonpersonal_bluetooth    38187 non-null float64\n",
      "dtypes: float64(6), int64(1), object(2)\n",
      "memory usage: 3.5+ MB\n"
     ]
    }
   ],
   "source": [
    "df.info()"
   ]
  },
  {
   "cell_type": "markdown",
   "metadata": {},
   "source": [
    "When the project first began, our team had debated the idea of gathering data from other classrooms, which is why this dataset contains two location columns. However, since it only contains data from our classroom, I can drop these columns.\n",
    "\n",
    "I'll also drop the `nonpersonal_bluetooth` feature, which was not added until April 8th, so there are two days of missing data. In addition, as you can see below, it is very highly correlated with `bluetooth_devices`."
   ]
  },
  {
   "cell_type": "code",
   "execution_count": 8,
   "metadata": {},
   "outputs": [
    {
     "data": {
      "image/png": "[encoded data removed]",
      "text/plain": [
       "<Figure size 432x432 with 3 Axes>"
      ]
     },
     "metadata": {},
     "output_type": "display_data"
    }
   ],
   "source": [
    "# Jointplot of bluetooth devices and non-personal bluetooth devices\n",
    "sns.jointplot(\n",
    "    x='bluetooth_devices', y='nonpersonal_bluetooth',\n",
    "    data=df.dropna(), kind='reg')\n",
    "\n",
    "plt.xlabel('Bluetooth Devices', fontsize=14)\n",
    "plt.ylabel('Non-Personal Bluetooth Devices', fontsize=14)\n",
    "plt.show()"
   ]
  },
  {
   "cell_type": "code",
   "execution_count": 9,
   "metadata": {},
   "outputs": [],
   "source": [
    "# Delete the non-personal bluetooth and two location columns\n",
    "df.drop(['loc', 'loc2', 'nonpersonal_bluetooth'], axis=1, inplace=True)"
   ]
  },
  {
   "cell_type": "markdown",
   "metadata": {},
   "source": [
    "### Dataset Overview\n",
    "\n",
    "Grouping by day shows that we have data for 11 class periods. Each day has a different number of values, since it wasn't possible to begin and end recording at the exact time each day. In addition, Friday night classes were only 3 hours long, from 6:30 PM to 9:30 PM EST, while Saturday classes were 7 hours, from 9:00 AM to 4:00 PM EST. This is why there are significantly fewer observations on May 5th, May 12th, and June 3rd."
   ]
  },
  {
   "cell_type": "code",
   "execution_count": 10,
   "metadata": {},
   "outputs": [
    {
     "data": {
      "text/html": [
       "<div>\n",
       "<style scoped>\n",
       "    .dataframe tbody tr th:only-of-type {\n",
       "        vertical-align: middle;\n",
       "    }\n",
       "\n",
       "    .dataframe tbody tr th {\n",
       "        vertical-align: top;\n",
       "    }\n",
       "\n",
       "    .dataframe thead th {\n",
       "        text-align: right;\n",
       "    }\n",
       "</style>\n",
       "<table border=\"1\" class=\"dataframe\">\n",
       "  <thead>\n",
       "    <tr style=\"text-align: right;\">\n",
       "      <th></th>\n",
       "      <th>temperature</th>\n",
       "      <th>humidity</th>\n",
       "      <th>co2</th>\n",
       "      <th>light</th>\n",
       "      <th>sound</th>\n",
       "      <th>bluetooth_devices</th>\n",
       "    </tr>\n",
       "  </thead>\n",
       "  <tbody>\n",
       "    <tr>\n",
       "      <th>03/25/17</th>\n",
       "      <td>3711</td>\n",
       "      <td>3711</td>\n",
       "      <td>3711</td>\n",
       "      <td>3711</td>\n",
       "      <td>3711</td>\n",
       "      <td>3711</td>\n",
       "    </tr>\n",
       "    <tr>\n",
       "      <th>04/01/17</th>\n",
       "      <td>4377</td>\n",
       "      <td>4377</td>\n",
       "      <td>4377</td>\n",
       "      <td>4377</td>\n",
       "      <td>4377</td>\n",
       "      <td>4377</td>\n",
       "    </tr>\n",
       "    <tr>\n",
       "      <th>04/08/17</th>\n",
       "      <td>4575</td>\n",
       "      <td>4575</td>\n",
       "      <td>4575</td>\n",
       "      <td>4575</td>\n",
       "      <td>4575</td>\n",
       "      <td>4575</td>\n",
       "    </tr>\n",
       "    <tr>\n",
       "      <th>04/22/17</th>\n",
       "      <td>5298</td>\n",
       "      <td>5298</td>\n",
       "      <td>5298</td>\n",
       "      <td>5298</td>\n",
       "      <td>5298</td>\n",
       "      <td>5298</td>\n",
       "    </tr>\n",
       "    <tr>\n",
       "      <th>04/29/17</th>\n",
       "      <td>5039</td>\n",
       "      <td>5039</td>\n",
       "      <td>5039</td>\n",
       "      <td>5039</td>\n",
       "      <td>5039</td>\n",
       "      <td>5039</td>\n",
       "    </tr>\n",
       "    <tr>\n",
       "      <th>05/05/17</th>\n",
       "      <td>2390</td>\n",
       "      <td>2390</td>\n",
       "      <td>2390</td>\n",
       "      <td>2390</td>\n",
       "      <td>2390</td>\n",
       "      <td>2390</td>\n",
       "    </tr>\n",
       "    <tr>\n",
       "      <th>05/06/17</th>\n",
       "      <td>5320</td>\n",
       "      <td>5320</td>\n",
       "      <td>5320</td>\n",
       "      <td>5320</td>\n",
       "      <td>5320</td>\n",
       "      <td>5320</td>\n",
       "    </tr>\n",
       "    <tr>\n",
       "      <th>05/12/17</th>\n",
       "      <td>2083</td>\n",
       "      <td>2083</td>\n",
       "      <td>2083</td>\n",
       "      <td>2083</td>\n",
       "      <td>2083</td>\n",
       "      <td>2083</td>\n",
       "    </tr>\n",
       "    <tr>\n",
       "      <th>05/13/17</th>\n",
       "      <td>5195</td>\n",
       "      <td>5195</td>\n",
       "      <td>5195</td>\n",
       "      <td>5195</td>\n",
       "      <td>5195</td>\n",
       "      <td>5195</td>\n",
       "    </tr>\n",
       "    <tr>\n",
       "      <th>06/03/17</th>\n",
       "      <td>2745</td>\n",
       "      <td>2745</td>\n",
       "      <td>2745</td>\n",
       "      <td>2745</td>\n",
       "      <td>2745</td>\n",
       "      <td>2745</td>\n",
       "    </tr>\n",
       "    <tr>\n",
       "      <th>06/10/17</th>\n",
       "      <td>5542</td>\n",
       "      <td>5542</td>\n",
       "      <td>5542</td>\n",
       "      <td>5542</td>\n",
       "      <td>5542</td>\n",
       "      <td>5542</td>\n",
       "    </tr>\n",
       "  </tbody>\n",
       "</table>\n",
       "</div>"
      ],
      "text/plain": [
       "          temperature  humidity   co2  light  sound  bluetooth_devices\n",
       "03/25/17         3711      3711  3711   3711   3711               3711\n",
       "04/01/17         4377      4377  4377   4377   4377               4377\n",
       "04/08/17         4575      4575  4575   4575   4575               4575\n",
       "04/22/17         5298      5298  5298   5298   5298               5298\n",
       "04/29/17         5039      5039  5039   5039   5039               5039\n",
       "05/05/17         2390      2390  2390   2390   2390               2390\n",
       "05/06/17         5320      5320  5320   5320   5320               5320\n",
       "05/12/17         2083      2083  2083   2083   2083               2083\n",
       "05/13/17         5195      5195  5195   5195   5195               5195\n",
       "06/03/17         2745      2745  2745   2745   2745               2745\n",
       "06/10/17         5542      5542  5542   5542   5542               5542"
      ]
     },
     "execution_count": 10,
     "metadata": {},
     "output_type": "execute_result"
    }
   ],
   "source": [
    "# Use groupby to see which days are captured in the data\n",
    "df.groupby(df.index.strftime('%D')).count()"
   ]
  },
  {
   "cell_type": "markdown",
   "metadata": {},
   "source": [
    "## Data Wrangling\n",
    "\n",
    "The initial exploratory data analysis showed that the several of the sensors had generated multiple error values. Most often, these readings occurred at the beginning and end of the day when the devices were turned on and off. However, there were also cases when the sensors would restart, causing either error values and creating gaps of missing data.\n",
    "\n",
    "Some of the error values were easy to identify, such as a temperature reading of -999.99 °Celsius. However others, such as a CO&#8322; value of 2, required further investigation, since without any domain knowledge, I couldn’t be certain if 2 was a low, but accurate reading."
   ]
  },
  {
   "cell_type": "markdown",
   "metadata": {},
   "source": [
    "### Temperature Data\n",
    "\n",
    "    Type of Sensor: AM2303 (captures both temperature and humidity)  \n",
    "    Sensor Range: -40 to 125°C\n",
    "\n",
    "    Reference: OSHA recommends temperature control in the range of 20-24.4°C (68-76°F). "
   ]
  },
  {
   "cell_type": "code",
   "execution_count": 11,
   "metadata": {},
   "outputs": [],
   "source": [
    "# Create temperature dataframe with a DateTimeIndex\n",
    "temperature_data = df[['temperature']].copy()"
   ]
  },
  {
   "cell_type": "markdown",
   "metadata": {},
   "source": [
    "The temperature data has two -999 values. Below, we can see that on April 8th it was the first value of the day, while the second occurred on May 6th during the first hour of class. In addition, because the AM2303 sensor captures both temperature and relative humidity, these same -999 errors allow show up in the humidity data."
   ]
  },
  {
   "cell_type": "code",
   "execution_count": 12,
   "metadata": {},
   "outputs": [
    {
     "data": {
      "text/html": [
       "<div>\n",
       "<style scoped>\n",
       "    .dataframe tbody tr th:only-of-type {\n",
       "        vertical-align: middle;\n",
       "    }\n",
       "\n",
       "    .dataframe tbody tr th {\n",
       "        vertical-align: top;\n",
       "    }\n",
       "\n",
       "    .dataframe thead th {\n",
       "        text-align: right;\n",
       "    }\n",
       "</style>\n",
       "<table border=\"1\" class=\"dataframe\">\n",
       "  <thead>\n",
       "    <tr style=\"text-align: right;\">\n",
       "      <th></th>\n",
       "      <th>temperature</th>\n",
       "    </tr>\n",
       "  </thead>\n",
       "  <tbody>\n",
       "    <tr>\n",
       "      <th>count</th>\n",
       "      <td>46275.000000</td>\n",
       "    </tr>\n",
       "    <tr>\n",
       "      <th>mean</th>\n",
       "      <td>23.022280</td>\n",
       "    </tr>\n",
       "    <tr>\n",
       "      <th>std</th>\n",
       "      <td>6.845733</td>\n",
       "    </tr>\n",
       "    <tr>\n",
       "      <th>min</th>\n",
       "      <td>-999.000000</td>\n",
       "    </tr>\n",
       "    <tr>\n",
       "      <th>25%</th>\n",
       "      <td>22.400000</td>\n",
       "    </tr>\n",
       "    <tr>\n",
       "      <th>50%</th>\n",
       "      <td>22.900000</td>\n",
       "    </tr>\n",
       "    <tr>\n",
       "      <th>75%</th>\n",
       "      <td>23.200000</td>\n",
       "    </tr>\n",
       "    <tr>\n",
       "      <th>max</th>\n",
       "      <td>29.400000</td>\n",
       "    </tr>\n",
       "  </tbody>\n",
       "</table>\n",
       "</div>"
      ],
      "text/plain": [
       "        temperature\n",
       "count  46275.000000\n",
       "mean      23.022280\n",
       "std        6.845733\n",
       "min     -999.000000\n",
       "25%       22.400000\n",
       "50%       22.900000\n",
       "75%       23.200000\n",
       "max       29.400000"
      ]
     },
     "execution_count": 12,
     "metadata": {},
     "output_type": "execute_result"
    }
   ],
   "source": [
    "# Summary statistics for the temperature data\n",
    "temperature_data.describe()"
   ]
  },
  {
   "cell_type": "code",
   "execution_count": 13,
   "metadata": {},
   "outputs": [
    {
     "data": {
      "text/html": [
       "<div>\n",
       "<style scoped>\n",
       "    .dataframe tbody tr th:only-of-type {\n",
       "        vertical-align: middle;\n",
       "    }\n",
       "\n",
       "    .dataframe tbody tr th {\n",
       "        vertical-align: top;\n",
       "    }\n",
       "\n",
       "    .dataframe thead th {\n",
       "        text-align: right;\n",
       "    }\n",
       "</style>\n",
       "<table border=\"1\" class=\"dataframe\">\n",
       "  <thead>\n",
       "    <tr style=\"text-align: right;\">\n",
       "      <th></th>\n",
       "      <th>temperature</th>\n",
       "    </tr>\n",
       "    <tr>\n",
       "      <th>datetime</th>\n",
       "      <th></th>\n",
       "    </tr>\n",
       "  </thead>\n",
       "  <tbody>\n",
       "    <tr>\n",
       "      <th>2017-04-08 08:58:39</th>\n",
       "      <td>-999.0</td>\n",
       "    </tr>\n",
       "    <tr>\n",
       "      <th>2017-04-08 08:58:44</th>\n",
       "      <td>21.8</td>\n",
       "    </tr>\n",
       "    <tr>\n",
       "      <th>2017-04-08 08:58:50</th>\n",
       "      <td>21.8</td>\n",
       "    </tr>\n",
       "    <tr>\n",
       "      <th>2017-04-08 08:58:55</th>\n",
       "      <td>21.8</td>\n",
       "    </tr>\n",
       "    <tr>\n",
       "      <th>2017-04-08 08:59:00</th>\n",
       "      <td>21.8</td>\n",
       "    </tr>\n",
       "  </tbody>\n",
       "</table>\n",
       "</div>"
      ],
      "text/plain": [
       "                     temperature\n",
       "datetime                        \n",
       "2017-04-08 08:58:39       -999.0\n",
       "2017-04-08 08:58:44         21.8\n",
       "2017-04-08 08:58:50         21.8\n",
       "2017-04-08 08:58:55         21.8\n",
       "2017-04-08 08:59:00         21.8"
      ]
     },
     "execution_count": 13,
     "metadata": {},
     "output_type": "execute_result"
    }
   ],
   "source": [
    "# Show when the first -999 value was recorded\n",
    "temperature_data['2017-04-08'].head()"
   ]
  },
  {
   "cell_type": "code",
   "execution_count": 14,
   "metadata": {},
   "outputs": [
    {
     "data": {
      "text/html": [
       "<div>\n",
       "<style scoped>\n",
       "    .dataframe tbody tr th:only-of-type {\n",
       "        vertical-align: middle;\n",
       "    }\n",
       "\n",
       "    .dataframe tbody tr th {\n",
       "        vertical-align: top;\n",
       "    }\n",
       "\n",
       "    .dataframe thead th {\n",
       "        text-align: right;\n",
       "    }\n",
       "</style>\n",
       "<table border=\"1\" class=\"dataframe\">\n",
       "  <thead>\n",
       "    <tr style=\"text-align: right;\">\n",
       "      <th></th>\n",
       "      <th>temperature</th>\n",
       "    </tr>\n",
       "    <tr>\n",
       "      <th>datetime</th>\n",
       "      <th></th>\n",
       "    </tr>\n",
       "  </thead>\n",
       "  <tbody>\n",
       "    <tr>\n",
       "      <th>2017-05-06 09:22:06</th>\n",
       "      <td>23.2</td>\n",
       "    </tr>\n",
       "    <tr>\n",
       "      <th>2017-05-06 09:22:11</th>\n",
       "      <td>23.1</td>\n",
       "    </tr>\n",
       "    <tr>\n",
       "      <th>2017-05-06 09:22:12</th>\n",
       "      <td>-999.0</td>\n",
       "    </tr>\n",
       "    <tr>\n",
       "      <th>2017-05-06 09:22:16</th>\n",
       "      <td>23.1</td>\n",
       "    </tr>\n",
       "    <tr>\n",
       "      <th>2017-05-06 09:22:17</th>\n",
       "      <td>22.7</td>\n",
       "    </tr>\n",
       "  </tbody>\n",
       "</table>\n",
       "</div>"
      ],
      "text/plain": [
       "                     temperature\n",
       "datetime                        \n",
       "2017-05-06 09:22:06         23.2\n",
       "2017-05-06 09:22:11         23.1\n",
       "2017-05-06 09:22:12       -999.0\n",
       "2017-05-06 09:22:16         23.1\n",
       "2017-05-06 09:22:17         22.7"
      ]
     },
     "execution_count": 14,
     "metadata": {},
     "output_type": "execute_result"
    }
   ],
   "source": [
    "# Show when the second -999 temperature value was recorded\n",
    "temperature_data['2017-05-06 09:22:05':'2017-05-06 09:22:20']"
   ]
  },
  {
   "cell_type": "markdown",
   "metadata": {},
   "source": [
    "Since even Neptune, the coldest planet in our solar system (sorry Pluto!), has an average temperature of -214°C, the -999 values are obviously errors generated by the sensor, so I'll delete them. "
   ]
  },
  {
   "cell_type": "code",
   "execution_count": 15,
   "metadata": {},
   "outputs": [],
   "source": [
    "# Delete two -999 values from the temperature data\n",
    "temperature_data = temperature_data[temperature_data['temperature'] != -999]"
   ]
  },
  {
   "cell_type": "code",
   "execution_count": 16,
   "metadata": {},
   "outputs": [
    {
     "data": {
      "text/html": [
       "<div>\n",
       "<style scoped>\n",
       "    .dataframe tbody tr th:only-of-type {\n",
       "        vertical-align: middle;\n",
       "    }\n",
       "\n",
       "    .dataframe tbody tr th {\n",
       "        vertical-align: top;\n",
       "    }\n",
       "\n",
       "    .dataframe thead th {\n",
       "        text-align: right;\n",
       "    }\n",
       "</style>\n",
       "<table border=\"1\" class=\"dataframe\">\n",
       "  <thead>\n",
       "    <tr style=\"text-align: right;\">\n",
       "      <th></th>\n",
       "      <th>temperature</th>\n",
       "    </tr>\n",
       "  </thead>\n",
       "  <tbody>\n",
       "    <tr>\n",
       "      <th>count</th>\n",
       "      <td>46273.000000</td>\n",
       "    </tr>\n",
       "    <tr>\n",
       "      <th>mean</th>\n",
       "      <td>23.066453</td>\n",
       "    </tr>\n",
       "    <tr>\n",
       "      <th>std</th>\n",
       "      <td>1.310251</td>\n",
       "    </tr>\n",
       "    <tr>\n",
       "      <th>min</th>\n",
       "      <td>20.700000</td>\n",
       "    </tr>\n",
       "    <tr>\n",
       "      <th>25%</th>\n",
       "      <td>22.400000</td>\n",
       "    </tr>\n",
       "    <tr>\n",
       "      <th>50%</th>\n",
       "      <td>22.900000</td>\n",
       "    </tr>\n",
       "    <tr>\n",
       "      <th>75%</th>\n",
       "      <td>23.200000</td>\n",
       "    </tr>\n",
       "    <tr>\n",
       "      <th>max</th>\n",
       "      <td>29.400000</td>\n",
       "    </tr>\n",
       "  </tbody>\n",
       "</table>\n",
       "</div>"
      ],
      "text/plain": [
       "        temperature\n",
       "count  46273.000000\n",
       "mean      23.066453\n",
       "std        1.310251\n",
       "min       20.700000\n",
       "25%       22.400000\n",
       "50%       22.900000\n",
       "75%       23.200000\n",
       "max       29.400000"
      ]
     },
     "execution_count": 16,
     "metadata": {},
     "output_type": "execute_result"
    }
   ],
   "source": [
    "# Updated summary statistics for the temperature data\n",
    "temperature_data.describe()"
   ]
  },
  {
   "cell_type": "code",
   "execution_count": 17,
   "metadata": {},
   "outputs": [
    {
     "data": {
      "image/png": "[encoded data removed]",
      "text/plain": [
       "<Figure size 1152x576 with 1 Axes>"
      ]
     },
     "metadata": {},
     "output_type": "display_data"
    }
   ],
   "source": [
    "# Plot boxplots of the daily temperature data\n",
    "plotBoxplots(temperature_data, 'temperature', 'Temperature °C')"
   ]
  },
  {
   "cell_type": "markdown",
   "metadata": {},
   "source": [
    "The boxplots show single outliers for certain days, such as for March 25th, May 13th, and June 10th. Further investigation found that these values are from the initial sensor reading from that particular day (please see below). While the difference between the first reading and the following values may not seem as significant at first, the dataframe's standard deviation is only 1.4, so it is important to address them. Since the values are relatively close, I will delete them here and they will be backfilled later when I concatenate the data back into a single DataFrame."
   ]
  },
  {
   "cell_type": "code",
   "execution_count": 18,
   "metadata": {},
   "outputs": [
    {
     "data": {
      "text/html": [
       "<div>\n",
       "<style scoped>\n",
       "    .dataframe tbody tr th:only-of-type {\n",
       "        vertical-align: middle;\n",
       "    }\n",
       "\n",
       "    .dataframe tbody tr th {\n",
       "        vertical-align: top;\n",
       "    }\n",
       "\n",
       "    .dataframe thead th {\n",
       "        text-align: right;\n",
       "    }\n",
       "</style>\n",
       "<table border=\"1\" class=\"dataframe\">\n",
       "  <thead>\n",
       "    <tr style=\"text-align: right;\">\n",
       "      <th></th>\n",
       "      <th>temperature</th>\n",
       "    </tr>\n",
       "    <tr>\n",
       "      <th>datetime</th>\n",
       "      <th></th>\n",
       "    </tr>\n",
       "  </thead>\n",
       "  <tbody>\n",
       "    <tr>\n",
       "      <th>2017-04-22 08:35:29</th>\n",
       "      <td>25.8</td>\n",
       "    </tr>\n",
       "    <tr>\n",
       "      <th>2017-04-22 08:35:34</th>\n",
       "      <td>22.7</td>\n",
       "    </tr>\n",
       "    <tr>\n",
       "      <th>2017-04-22 08:35:39</th>\n",
       "      <td>22.6</td>\n",
       "    </tr>\n",
       "    <tr>\n",
       "      <th>2017-04-22 08:35:44</th>\n",
       "      <td>22.6</td>\n",
       "    </tr>\n",
       "    <tr>\n",
       "      <th>2017-04-22 08:35:49</th>\n",
       "      <td>22.6</td>\n",
       "    </tr>\n",
       "  </tbody>\n",
       "</table>\n",
       "</div>"
      ],
      "text/plain": [
       "                     temperature\n",
       "datetime                        \n",
       "2017-04-22 08:35:29         25.8\n",
       "2017-04-22 08:35:34         22.7\n",
       "2017-04-22 08:35:39         22.6\n",
       "2017-04-22 08:35:44         22.6\n",
       "2017-04-22 08:35:49         22.6"
      ]
     },
     "execution_count": 18,
     "metadata": {},
     "output_type": "execute_result"
    }
   ],
   "source": [
    "# Look at the first value from April 22, 2017\n",
    "temperature_data.loc['2017-04-22'].head()"
   ]
  },
  {
   "cell_type": "code",
   "execution_count": 19,
   "metadata": {},
   "outputs": [
    {
     "data": {
      "text/html": [
       "<div>\n",
       "<style scoped>\n",
       "    .dataframe tbody tr th:only-of-type {\n",
       "        vertical-align: middle;\n",
       "    }\n",
       "\n",
       "    .dataframe tbody tr th {\n",
       "        vertical-align: top;\n",
       "    }\n",
       "\n",
       "    .dataframe thead th {\n",
       "        text-align: right;\n",
       "    }\n",
       "</style>\n",
       "<table border=\"1\" class=\"dataframe\">\n",
       "  <thead>\n",
       "    <tr style=\"text-align: right;\">\n",
       "      <th></th>\n",
       "      <th>temperature</th>\n",
       "    </tr>\n",
       "    <tr>\n",
       "      <th>datetime</th>\n",
       "      <th></th>\n",
       "    </tr>\n",
       "  </thead>\n",
       "  <tbody>\n",
       "    <tr>\n",
       "      <th>2017-05-13 08:57:13</th>\n",
       "      <td>20.7</td>\n",
       "    </tr>\n",
       "    <tr>\n",
       "      <th>2017-05-13 08:57:18</th>\n",
       "      <td>21.4</td>\n",
       "    </tr>\n",
       "    <tr>\n",
       "      <th>2017-05-13 08:57:23</th>\n",
       "      <td>21.4</td>\n",
       "    </tr>\n",
       "    <tr>\n",
       "      <th>2017-05-13 08:57:28</th>\n",
       "      <td>21.4</td>\n",
       "    </tr>\n",
       "    <tr>\n",
       "      <th>2017-05-13 08:57:33</th>\n",
       "      <td>21.5</td>\n",
       "    </tr>\n",
       "  </tbody>\n",
       "</table>\n",
       "</div>"
      ],
      "text/plain": [
       "                     temperature\n",
       "datetime                        \n",
       "2017-05-13 08:57:13         20.7\n",
       "2017-05-13 08:57:18         21.4\n",
       "2017-05-13 08:57:23         21.4\n",
       "2017-05-13 08:57:28         21.4\n",
       "2017-05-13 08:57:33         21.5"
      ]
     },
     "execution_count": 19,
     "metadata": {},
     "output_type": "execute_result"
    }
   ],
   "source": [
    "# Look at the first temperature value from May 13, 2017\n",
    "temperature_data['2017-05-13'].head()"
   ]
  },
  {
   "cell_type": "code",
   "execution_count": 20,
   "metadata": {},
   "outputs": [
    {
     "data": {
      "text/html": [
       "<div>\n",
       "<style scoped>\n",
       "    .dataframe tbody tr th:only-of-type {\n",
       "        vertical-align: middle;\n",
       "    }\n",
       "\n",
       "    .dataframe tbody tr th {\n",
       "        vertical-align: top;\n",
       "    }\n",
       "\n",
       "    .dataframe thead th {\n",
       "        text-align: right;\n",
       "    }\n",
       "</style>\n",
       "<table border=\"1\" class=\"dataframe\">\n",
       "  <thead>\n",
       "    <tr style=\"text-align: right;\">\n",
       "      <th></th>\n",
       "      <th>temperature</th>\n",
       "    </tr>\n",
       "    <tr>\n",
       "      <th>datetime</th>\n",
       "      <th></th>\n",
       "    </tr>\n",
       "  </thead>\n",
       "  <tbody>\n",
       "    <tr>\n",
       "      <th>2017-06-10 09:03:10</th>\n",
       "      <td>24.8</td>\n",
       "    </tr>\n",
       "    <tr>\n",
       "      <th>2017-06-10 09:03:15</th>\n",
       "      <td>23.6</td>\n",
       "    </tr>\n",
       "    <tr>\n",
       "      <th>2017-06-10 09:03:20</th>\n",
       "      <td>23.6</td>\n",
       "    </tr>\n",
       "    <tr>\n",
       "      <th>2017-06-10 09:03:25</th>\n",
       "      <td>23.5</td>\n",
       "    </tr>\n",
       "    <tr>\n",
       "      <th>2017-06-10 09:03:30</th>\n",
       "      <td>23.5</td>\n",
       "    </tr>\n",
       "  </tbody>\n",
       "</table>\n",
       "</div>"
      ],
      "text/plain": [
       "                     temperature\n",
       "datetime                        \n",
       "2017-06-10 09:03:10         24.8\n",
       "2017-06-10 09:03:15         23.6\n",
       "2017-06-10 09:03:20         23.6\n",
       "2017-06-10 09:03:25         23.5\n",
       "2017-06-10 09:03:30         23.5"
      ]
     },
     "execution_count": 20,
     "metadata": {},
     "output_type": "execute_result"
    }
   ],
   "source": [
    "# Look at the first temperature value from June 10, 2017\n",
    "temperature_data['2017-06-10'].head()"
   ]
  },
  {
   "cell_type": "markdown",
   "metadata": {},
   "source": [
    "Since the first temperature values recorded for each class period were outliers created by the sensor, I'll delete those from the data."
   ]
  },
  {
   "cell_type": "code",
   "execution_count": 21,
   "metadata": {},
   "outputs": [],
   "source": [
    "# Group the temperature data by day\n",
    "temp_data = temperature_data.groupby(temperature_data.index.date).head(1)\n",
    "\n",
    "# Drop the first temperature value for each day\n",
    "temperature_data = temperature_data.drop(temp_data[temp_data == 1].index)"
   ]
  },
  {
   "cell_type": "code",
   "execution_count": 22,
   "metadata": {},
   "outputs": [
    {
     "data": {
      "image/png": "[encoded data removed]",
      "text/plain": [
       "<Figure size 1152x576 with 1 Axes>"
      ]
     },
     "metadata": {},
     "output_type": "display_data"
    }
   ],
   "source": [
    "# Updated boxplots of the daily temperature data\n",
    "plotBoxplots(temperature_data, 'temperature', 'Temperature °C')"
   ]
  },
  {
   "cell_type": "code",
   "execution_count": 23,
   "metadata": {},
   "outputs": [
    {
     "data": {
      "image/png": "[encoded data removed]",
      "text/plain": [
       "<Figure size 576x396 with 1 Axes>"
      ]
     },
     "metadata": {},
     "output_type": "display_data"
    }
   ],
   "source": [
    "# Plot a histogram of the temperature data\n",
    "plotHistogram(temperature_data, 'temperature', 'Temperature °C')"
   ]
  },
  {
   "cell_type": "markdown",
   "metadata": {},
   "source": [
    "#### Resample Temperature Data\n",
    "\n",
    "The temperature data was original taken at 5-second intervals, so I'll resample it now 1-minute frequency by taking the mean of the values."
   ]
  },
  {
   "cell_type": "code",
   "execution_count": 24,
   "metadata": {},
   "outputs": [],
   "source": [
    "# Resample temperature data \n",
    "temperature = temperature_data.resample('T').mean().dropna()"
   ]
  },
  {
   "cell_type": "code",
   "execution_count": 25,
   "metadata": {},
   "outputs": [
    {
     "data": {
      "text/html": [
       "<div>\n",
       "<style scoped>\n",
       "    .dataframe tbody tr th:only-of-type {\n",
       "        vertical-align: middle;\n",
       "    }\n",
       "\n",
       "    .dataframe tbody tr th {\n",
       "        vertical-align: top;\n",
       "    }\n",
       "\n",
       "    .dataframe thead th {\n",
       "        text-align: right;\n",
       "    }\n",
       "</style>\n",
       "<table border=\"1\" class=\"dataframe\">\n",
       "  <thead>\n",
       "    <tr style=\"text-align: right;\">\n",
       "      <th></th>\n",
       "      <th>temperature</th>\n",
       "    </tr>\n",
       "  </thead>\n",
       "  <tbody>\n",
       "    <tr>\n",
       "      <th>count</th>\n",
       "      <td>4155.000000</td>\n",
       "    </tr>\n",
       "    <tr>\n",
       "      <th>mean</th>\n",
       "      <td>23.116235</td>\n",
       "    </tr>\n",
       "    <tr>\n",
       "      <th>std</th>\n",
       "      <td>1.427802</td>\n",
       "    </tr>\n",
       "    <tr>\n",
       "      <th>min</th>\n",
       "      <td>21.000000</td>\n",
       "    </tr>\n",
       "    <tr>\n",
       "      <th>25%</th>\n",
       "      <td>22.300000</td>\n",
       "    </tr>\n",
       "    <tr>\n",
       "      <th>50%</th>\n",
       "      <td>22.900000</td>\n",
       "    </tr>\n",
       "    <tr>\n",
       "      <th>75%</th>\n",
       "      <td>23.200000</td>\n",
       "    </tr>\n",
       "    <tr>\n",
       "      <th>max</th>\n",
       "      <td>29.350000</td>\n",
       "    </tr>\n",
       "  </tbody>\n",
       "</table>\n",
       "</div>"
      ],
      "text/plain": [
       "       temperature\n",
       "count  4155.000000\n",
       "mean     23.116235\n",
       "std       1.427802\n",
       "min      21.000000\n",
       "25%      22.300000\n",
       "50%      22.900000\n",
       "75%      23.200000\n",
       "max      29.350000"
      ]
     },
     "execution_count": 25,
     "metadata": {},
     "output_type": "execute_result"
    }
   ],
   "source": [
    "# Updated temperature summary statistics\n",
    "temperature.describe()"
   ]
  },
  {
   "cell_type": "markdown",
   "metadata": {},
   "source": [
    "### Humidity\n",
    "\n",
    "    Type of Sensor: AM2303\n",
    "    Sensor Range: 0-100% RH\n",
    "\n",
    "    Reference: OSHA recommends humidity control in the range of 20%-60%."
   ]
  },
  {
   "cell_type": "code",
   "execution_count": 26,
   "metadata": {},
   "outputs": [],
   "source": [
    "# Create humidity dataframe with DateTimeIndex: humidity_data\n",
    "humidity_data = df[['humidity']].copy()"
   ]
  },
  {
   "cell_type": "markdown",
   "metadata": {},
   "source": [
    "Our sensor captured both temperature and humidity together, which is why the humidity data also contains two -999 values."
   ]
  },
  {
   "cell_type": "code",
   "execution_count": 27,
   "metadata": {},
   "outputs": [
    {
     "data": {
      "text/html": [
       "<div>\n",
       "<style scoped>\n",
       "    .dataframe tbody tr th:only-of-type {\n",
       "        vertical-align: middle;\n",
       "    }\n",
       "\n",
       "    .dataframe tbody tr th {\n",
       "        vertical-align: top;\n",
       "    }\n",
       "\n",
       "    .dataframe thead th {\n",
       "        text-align: right;\n",
       "    }\n",
       "</style>\n",
       "<table border=\"1\" class=\"dataframe\">\n",
       "  <thead>\n",
       "    <tr style=\"text-align: right;\">\n",
       "      <th></th>\n",
       "      <th>humidity</th>\n",
       "    </tr>\n",
       "  </thead>\n",
       "  <tbody>\n",
       "    <tr>\n",
       "      <th>count</th>\n",
       "      <td>46275.000000</td>\n",
       "    </tr>\n",
       "    <tr>\n",
       "      <th>mean</th>\n",
       "      <td>39.769657</td>\n",
       "    </tr>\n",
       "    <tr>\n",
       "      <th>std</th>\n",
       "      <td>9.471097</td>\n",
       "    </tr>\n",
       "    <tr>\n",
       "      <th>min</th>\n",
       "      <td>-999.000000</td>\n",
       "    </tr>\n",
       "    <tr>\n",
       "      <th>25%</th>\n",
       "      <td>37.800000</td>\n",
       "    </tr>\n",
       "    <tr>\n",
       "      <th>50%</th>\n",
       "      <td>40.100000</td>\n",
       "    </tr>\n",
       "    <tr>\n",
       "      <th>75%</th>\n",
       "      <td>45.100000</td>\n",
       "    </tr>\n",
       "    <tr>\n",
       "      <th>max</th>\n",
       "      <td>52.200000</td>\n",
       "    </tr>\n",
       "  </tbody>\n",
       "</table>\n",
       "</div>"
      ],
      "text/plain": [
       "           humidity\n",
       "count  46275.000000\n",
       "mean      39.769657\n",
       "std        9.471097\n",
       "min     -999.000000\n",
       "25%       37.800000\n",
       "50%       40.100000\n",
       "75%       45.100000\n",
       "max       52.200000"
      ]
     },
     "execution_count": 27,
     "metadata": {},
     "output_type": "execute_result"
    }
   ],
   "source": [
    "# Summary statistics for the humidity data\n",
    "humidity_data.describe()"
   ]
  },
  {
   "cell_type": "code",
   "execution_count": 28,
   "metadata": {},
   "outputs": [],
   "source": [
    "# Delete two -999 values\n",
    "humidity_data = humidity_data[humidity_data['humidity'] != -999]"
   ]
  },
  {
   "cell_type": "code",
   "execution_count": 29,
   "metadata": {},
   "outputs": [
    {
     "data": {
      "text/html": [
       "<div>\n",
       "<style scoped>\n",
       "    .dataframe tbody tr th:only-of-type {\n",
       "        vertical-align: middle;\n",
       "    }\n",
       "\n",
       "    .dataframe tbody tr th {\n",
       "        vertical-align: top;\n",
       "    }\n",
       "\n",
       "    .dataframe thead th {\n",
       "        text-align: right;\n",
       "    }\n",
       "</style>\n",
       "<table border=\"1\" class=\"dataframe\">\n",
       "  <thead>\n",
       "    <tr style=\"text-align: right;\">\n",
       "      <th></th>\n",
       "      <th>humidity</th>\n",
       "    </tr>\n",
       "  </thead>\n",
       "  <tbody>\n",
       "    <tr>\n",
       "      <th>count</th>\n",
       "      <td>46273.000000</td>\n",
       "    </tr>\n",
       "    <tr>\n",
       "      <th>mean</th>\n",
       "      <td>39.814555</td>\n",
       "    </tr>\n",
       "    <tr>\n",
       "      <th>std</th>\n",
       "      <td>6.562350</td>\n",
       "    </tr>\n",
       "    <tr>\n",
       "      <th>min</th>\n",
       "      <td>20.800000</td>\n",
       "    </tr>\n",
       "    <tr>\n",
       "      <th>25%</th>\n",
       "      <td>37.800000</td>\n",
       "    </tr>\n",
       "    <tr>\n",
       "      <th>50%</th>\n",
       "      <td>40.100000</td>\n",
       "    </tr>\n",
       "    <tr>\n",
       "      <th>75%</th>\n",
       "      <td>45.100000</td>\n",
       "    </tr>\n",
       "    <tr>\n",
       "      <th>max</th>\n",
       "      <td>52.200000</td>\n",
       "    </tr>\n",
       "  </tbody>\n",
       "</table>\n",
       "</div>"
      ],
      "text/plain": [
       "           humidity\n",
       "count  46273.000000\n",
       "mean      39.814555\n",
       "std        6.562350\n",
       "min       20.800000\n",
       "25%       37.800000\n",
       "50%       40.100000\n",
       "75%       45.100000\n",
       "max       52.200000"
      ]
     },
     "execution_count": 29,
     "metadata": {},
     "output_type": "execute_result"
    }
   ],
   "source": [
    "# Updated humidity statistics\n",
    "humidity_data.describe()"
   ]
  },
  {
   "cell_type": "code",
   "execution_count": 30,
   "metadata": {},
   "outputs": [
    {
     "data": {
      "image/png": "[encoded data removed]",
      "text/plain": [
       "<Figure size 576x396 with 1 Axes>"
      ]
     },
     "metadata": {},
     "output_type": "display_data"
    }
   ],
   "source": [
    "# Plot a histogram of the humidity data\n",
    "plotHistogram(humidity_data, 'humidity', 'Humidity Data')"
   ]
  },
  {
   "cell_type": "code",
   "execution_count": 31,
   "metadata": {},
   "outputs": [
    {
     "data": {
      "image/png": "[encoded data removed]",
      "text/plain": [
       "<Figure size 1152x576 with 1 Axes>"
      ]
     },
     "metadata": {},
     "output_type": "display_data"
    }
   ],
   "source": [
    "# Plot boxplots of the daily humidity data\n",
    "plotBoxplots(humidity_data, 'humidity', 'Humidity Data')"
   ]
  },
  {
   "cell_type": "code",
   "execution_count": 32,
   "metadata": {},
   "outputs": [],
   "source": [
    "# TO DO: Look into why the data April 8 differs so greatly from the others."
   ]
  },
  {
   "cell_type": "code",
   "execution_count": 33,
   "metadata": {},
   "outputs": [],
   "source": [
    "# Resample the humidity data\n",
    "humidity = humidity_data.resample('T').mean().dropna()"
   ]
  },
  {
   "cell_type": "code",
   "execution_count": 34,
   "metadata": {},
   "outputs": [
    {
     "data": {
      "text/html": [
       "<div>\n",
       "<style scoped>\n",
       "    .dataframe tbody tr th:only-of-type {\n",
       "        vertical-align: middle;\n",
       "    }\n",
       "\n",
       "    .dataframe tbody tr th {\n",
       "        vertical-align: top;\n",
       "    }\n",
       "\n",
       "    .dataframe thead th {\n",
       "        text-align: right;\n",
       "    }\n",
       "</style>\n",
       "<table border=\"1\" class=\"dataframe\">\n",
       "  <thead>\n",
       "    <tr style=\"text-align: right;\">\n",
       "      <th></th>\n",
       "      <th>humidity</th>\n",
       "    </tr>\n",
       "  </thead>\n",
       "  <tbody>\n",
       "    <tr>\n",
       "      <th>count</th>\n",
       "      <td>4157.000000</td>\n",
       "    </tr>\n",
       "    <tr>\n",
       "      <th>mean</th>\n",
       "      <td>39.581197</td>\n",
       "    </tr>\n",
       "    <tr>\n",
       "      <th>std</th>\n",
       "      <td>6.547206</td>\n",
       "    </tr>\n",
       "    <tr>\n",
       "      <th>min</th>\n",
       "      <td>21.190909</td>\n",
       "    </tr>\n",
       "    <tr>\n",
       "      <th>25%</th>\n",
       "      <td>37.730000</td>\n",
       "    </tr>\n",
       "    <tr>\n",
       "      <th>50%</th>\n",
       "      <td>39.716667</td>\n",
       "    </tr>\n",
       "    <tr>\n",
       "      <th>75%</th>\n",
       "      <td>44.916667</td>\n",
       "    </tr>\n",
       "    <tr>\n",
       "      <th>max</th>\n",
       "      <td>50.730000</td>\n",
       "    </tr>\n",
       "  </tbody>\n",
       "</table>\n",
       "</div>"
      ],
      "text/plain": [
       "          humidity\n",
       "count  4157.000000\n",
       "mean     39.581197\n",
       "std       6.547206\n",
       "min      21.190909\n",
       "25%      37.730000\n",
       "50%      39.716667\n",
       "75%      44.916667\n",
       "max      50.730000"
      ]
     },
     "execution_count": 34,
     "metadata": {},
     "output_type": "execute_result"
    }
   ],
   "source": [
    "# Updated humidity summary statistics\n",
    "humidity.describe()"
   ]
  },
  {
   "cell_type": "markdown",
   "metadata": {},
   "source": [
    "### CO&#8322; Data\n",
    "\n",
    "    Type of Sensor: COZIR Ambient GC-0010 Sensor\n",
    "    Sensor Range: 0-2000 parts per million (ppm)\n",
    "\n",
    "    Reference: OSHA recommends keeping indoor CO2 levels below 1000 ppm.   "
   ]
  },
  {
   "cell_type": "code",
   "execution_count": 35,
   "metadata": {},
   "outputs": [],
   "source": [
    "# Create CO2 dataframe with DateTimeIndex: co2_data\n",
    "co2_data = df[['co2']].copy()"
   ]
  },
  {
   "cell_type": "markdown",
   "metadata": {},
   "source": [
    "The summary statistics report a mean of 1236.25 and a standard deviation of 178.46. However, I noticed that the 25% quartile has a range of 2 to 1110, which was significantly larger than the others.\n",
    "\n",
    "While the -999 temperature and humidity values were obviously errors, without any domain knowledge, I didn't initially know if a CO&#8322; value of 2 was caused by a sensor error or was a low, but accurate, reading. "
   ]
  },
  {
   "cell_type": "code",
   "execution_count": 36,
   "metadata": {},
   "outputs": [
    {
     "data": {
      "text/html": [
       "<div>\n",
       "<style scoped>\n",
       "    .dataframe tbody tr th:only-of-type {\n",
       "        vertical-align: middle;\n",
       "    }\n",
       "\n",
       "    .dataframe tbody tr th {\n",
       "        vertical-align: top;\n",
       "    }\n",
       "\n",
       "    .dataframe thead th {\n",
       "        text-align: right;\n",
       "    }\n",
       "</style>\n",
       "<table border=\"1\" class=\"dataframe\">\n",
       "  <thead>\n",
       "    <tr style=\"text-align: right;\">\n",
       "      <th></th>\n",
       "      <th>co2</th>\n",
       "    </tr>\n",
       "  </thead>\n",
       "  <tbody>\n",
       "    <tr>\n",
       "      <th>count</th>\n",
       "      <td>46275.00000</td>\n",
       "    </tr>\n",
       "    <tr>\n",
       "      <th>mean</th>\n",
       "      <td>1236.24510</td>\n",
       "    </tr>\n",
       "    <tr>\n",
       "      <th>std</th>\n",
       "      <td>178.36047</td>\n",
       "    </tr>\n",
       "    <tr>\n",
       "      <th>min</th>\n",
       "      <td>2.00000</td>\n",
       "    </tr>\n",
       "    <tr>\n",
       "      <th>25%</th>\n",
       "      <td>1110.00000</td>\n",
       "    </tr>\n",
       "    <tr>\n",
       "      <th>50%</th>\n",
       "      <td>1261.00000</td>\n",
       "    </tr>\n",
       "    <tr>\n",
       "      <th>75%</th>\n",
       "      <td>1355.00000</td>\n",
       "    </tr>\n",
       "    <tr>\n",
       "      <th>max</th>\n",
       "      <td>2001.00000</td>\n",
       "    </tr>\n",
       "  </tbody>\n",
       "</table>\n",
       "</div>"
      ],
      "text/plain": [
       "               co2\n",
       "count  46275.00000\n",
       "mean    1236.24510\n",
       "std      178.36047\n",
       "min        2.00000\n",
       "25%     1110.00000\n",
       "50%     1261.00000\n",
       "75%     1355.00000\n",
       "max     2001.00000"
      ]
     },
     "execution_count": 36,
     "metadata": {},
     "output_type": "execute_result"
    }
   ],
   "source": [
    "# Summary statistics for the CO2 data\n",
    "co2_data.describe()"
   ]
  },
  {
   "cell_type": "markdown",
   "metadata": {},
   "source": [
    "The sensor randomly generated thirty-three error 2 values, with several recorded as the first value of the day."
   ]
  },
  {
   "cell_type": "code",
   "execution_count": 37,
   "metadata": {},
   "outputs": [
    {
     "data": {
      "text/plain": [
       "33"
      ]
     },
     "execution_count": 37,
     "metadata": {},
     "output_type": "execute_result"
    }
   ],
   "source": [
    "# Identify how many 2 values are in the data\n",
    "len(co2_data[co2_data['co2'] == 2])"
   ]
  },
  {
   "cell_type": "code",
   "execution_count": 38,
   "metadata": {},
   "outputs": [
    {
     "data": {
      "text/html": [
       "<div>\n",
       "<style scoped>\n",
       "    .dataframe tbody tr th:only-of-type {\n",
       "        vertical-align: middle;\n",
       "    }\n",
       "\n",
       "    .dataframe tbody tr th {\n",
       "        vertical-align: top;\n",
       "    }\n",
       "\n",
       "    .dataframe thead th {\n",
       "        text-align: right;\n",
       "    }\n",
       "</style>\n",
       "<table border=\"1\" class=\"dataframe\">\n",
       "  <thead>\n",
       "    <tr style=\"text-align: right;\">\n",
       "      <th></th>\n",
       "      <th>co2</th>\n",
       "    </tr>\n",
       "    <tr>\n",
       "      <th>datetime</th>\n",
       "      <th></th>\n",
       "    </tr>\n",
       "  </thead>\n",
       "  <tbody>\n",
       "    <tr>\n",
       "      <th>2017-04-08 08:58:39</th>\n",
       "      <td>2.0</td>\n",
       "    </tr>\n",
       "    <tr>\n",
       "      <th>2017-04-08 08:58:44</th>\n",
       "      <td>792.0</td>\n",
       "    </tr>\n",
       "    <tr>\n",
       "      <th>2017-04-08 08:58:50</th>\n",
       "      <td>776.0</td>\n",
       "    </tr>\n",
       "    <tr>\n",
       "      <th>2017-04-08 08:58:55</th>\n",
       "      <td>763.0</td>\n",
       "    </tr>\n",
       "    <tr>\n",
       "      <th>2017-04-08 08:59:00</th>\n",
       "      <td>776.0</td>\n",
       "    </tr>\n",
       "  </tbody>\n",
       "</table>\n",
       "</div>"
      ],
      "text/plain": [
       "                       co2\n",
       "datetime                  \n",
       "2017-04-08 08:58:39    2.0\n",
       "2017-04-08 08:58:44  792.0\n",
       "2017-04-08 08:58:50  776.0\n",
       "2017-04-08 08:58:55  763.0\n",
       "2017-04-08 08:59:00  776.0"
      ]
     },
     "execution_count": 38,
     "metadata": {},
     "output_type": "execute_result"
    }
   ],
   "source": [
    "# Look at the first CO2 value from April 8, 2017\n",
    "co2_data.loc['2017-04-08'].head()"
   ]
  },
  {
   "cell_type": "code",
   "execution_count": 39,
   "metadata": {},
   "outputs": [
    {
     "data": {
      "text/html": [
       "<div>\n",
       "<style scoped>\n",
       "    .dataframe tbody tr th:only-of-type {\n",
       "        vertical-align: middle;\n",
       "    }\n",
       "\n",
       "    .dataframe tbody tr th {\n",
       "        vertical-align: top;\n",
       "    }\n",
       "\n",
       "    .dataframe thead th {\n",
       "        text-align: right;\n",
       "    }\n",
       "</style>\n",
       "<table border=\"1\" class=\"dataframe\">\n",
       "  <thead>\n",
       "    <tr style=\"text-align: right;\">\n",
       "      <th></th>\n",
       "      <th>co2</th>\n",
       "    </tr>\n",
       "    <tr>\n",
       "      <th>datetime</th>\n",
       "      <th></th>\n",
       "    </tr>\n",
       "  </thead>\n",
       "  <tbody>\n",
       "    <tr>\n",
       "      <th>2017-06-10 09:03:10</th>\n",
       "      <td>2.0</td>\n",
       "    </tr>\n",
       "    <tr>\n",
       "      <th>2017-06-10 09:03:15</th>\n",
       "      <td>1290.0</td>\n",
       "    </tr>\n",
       "    <tr>\n",
       "      <th>2017-06-10 09:03:20</th>\n",
       "      <td>1310.0</td>\n",
       "    </tr>\n",
       "    <tr>\n",
       "      <th>2017-06-10 09:03:25</th>\n",
       "      <td>1293.0</td>\n",
       "    </tr>\n",
       "    <tr>\n",
       "      <th>2017-06-10 09:03:30</th>\n",
       "      <td>1333.0</td>\n",
       "    </tr>\n",
       "  </tbody>\n",
       "</table>\n",
       "</div>"
      ],
      "text/plain": [
       "                        co2\n",
       "datetime                   \n",
       "2017-06-10 09:03:10     2.0\n",
       "2017-06-10 09:03:15  1290.0\n",
       "2017-06-10 09:03:20  1310.0\n",
       "2017-06-10 09:03:25  1293.0\n",
       "2017-06-10 09:03:30  1333.0"
      ]
     },
     "execution_count": 39,
     "metadata": {},
     "output_type": "execute_result"
    }
   ],
   "source": [
    "# Look at the first CO2 value from June 10, 2017\n",
    "co2_data.loc['2017-06-10'].head()"
   ]
  },
  {
   "cell_type": "code",
   "execution_count": 40,
   "metadata": {},
   "outputs": [],
   "source": [
    "# Delete 2 values\n",
    "co2_data = co2_data[co2_data['co2'] != 2]"
   ]
  },
  {
   "cell_type": "code",
   "execution_count": 41,
   "metadata": {},
   "outputs": [
    {
     "data": {
      "text/html": [
       "<div>\n",
       "<style scoped>\n",
       "    .dataframe tbody tr th:only-of-type {\n",
       "        vertical-align: middle;\n",
       "    }\n",
       "\n",
       "    .dataframe tbody tr th {\n",
       "        vertical-align: top;\n",
       "    }\n",
       "\n",
       "    .dataframe thead th {\n",
       "        text-align: right;\n",
       "    }\n",
       "</style>\n",
       "<table border=\"1\" class=\"dataframe\">\n",
       "  <thead>\n",
       "    <tr style=\"text-align: right;\">\n",
       "      <th></th>\n",
       "      <th>co2</th>\n",
       "    </tr>\n",
       "  </thead>\n",
       "  <tbody>\n",
       "    <tr>\n",
       "      <th>count</th>\n",
       "      <td>46242.000000</td>\n",
       "    </tr>\n",
       "    <tr>\n",
       "      <th>mean</th>\n",
       "      <td>1237.125903</td>\n",
       "    </tr>\n",
       "    <tr>\n",
       "      <th>std</th>\n",
       "      <td>175.348893</td>\n",
       "    </tr>\n",
       "    <tr>\n",
       "      <th>min</th>\n",
       "      <td>629.000000</td>\n",
       "    </tr>\n",
       "    <tr>\n",
       "      <th>25%</th>\n",
       "      <td>1110.000000</td>\n",
       "    </tr>\n",
       "    <tr>\n",
       "      <th>50%</th>\n",
       "      <td>1261.000000</td>\n",
       "    </tr>\n",
       "    <tr>\n",
       "      <th>75%</th>\n",
       "      <td>1355.000000</td>\n",
       "    </tr>\n",
       "    <tr>\n",
       "      <th>max</th>\n",
       "      <td>2001.000000</td>\n",
       "    </tr>\n",
       "  </tbody>\n",
       "</table>\n",
       "</div>"
      ],
      "text/plain": [
       "                co2\n",
       "count  46242.000000\n",
       "mean    1237.125903\n",
       "std      175.348893\n",
       "min      629.000000\n",
       "25%     1110.000000\n",
       "50%     1261.000000\n",
       "75%     1355.000000\n",
       "max     2001.000000"
      ]
     },
     "execution_count": 41,
     "metadata": {},
     "output_type": "execute_result"
    }
   ],
   "source": [
    "# Updated CO2 statistics\n",
    "co2_data.describe()"
   ]
  },
  {
   "cell_type": "markdown",
   "metadata": {},
   "source": [
    "On April 1, 2017, the CO&#8322; sensor readings suddenly spiked up to 2001, as you can see below. The sensor was only supposed to have a range of 0-2000 ppm."
   ]
  },
  {
   "cell_type": "code",
   "execution_count": 42,
   "metadata": {},
   "outputs": [
    {
     "data": {
      "image/png": "[encoded data removed]",
      "text/plain": [
       "<Figure size 1152x576 with 2 Axes>"
      ]
     },
     "metadata": {},
     "output_type": "display_data"
    }
   ],
   "source": [
    "# Create figure and axes\n",
    "fig, ax = plt.subplots(figsize=(16,8))\n",
    "\n",
    "# Plot spike in CO2 level on April 1, 2017\n",
    "ax.plot(co2_data.loc['April 1, 2017'])\n",
    "\n",
    "# Add title and labels\n",
    "ax.set_title('Spike in CO2 Level on April 1, 2017', fontsize=18)\n",
    "ax.set_ylabel('CO2 Level (ppm)', fontsize=16, weight='bold')\n",
    "ax.set_xlabel('Time of Day', fontsize=16)\n",
    "ax.xaxis.set_major_formatter(md.DateFormatter('%I:%M %p'))\n",
    "ax.yaxis.set_major_formatter(tkr.FuncFormatter(lambda y,  p: format(int(y), ',')))\n",
    "\n",
    "# Create inset\n",
    "ax = plt.axes([.58, .55, .3, .3], facecolor='w')\n",
    "\n",
    "# Plot inset showing the spike in CO2 values\n",
    "ax.plot(co2_data['co2'].loc['2017-04-01 09:55:00':'2017-04-01 10:38:00'].index, \n",
    "        co2_data['co2'].loc['2017-04-01 09:55:00':'2017-04-01 10:38:00'], 'g', linewidth=2.0)\n",
    "\n",
    "# Format inset ticks\n",
    "ax.xaxis.set_major_formatter(md.DateFormatter('%I:%M'))\n",
    "ax.yaxis.set_major_formatter(tkr.FuncFormatter(lambda y,  p: format(int(y), ',')))\n",
    "\n",
    "# Show plot\n",
    "plt.show()"
   ]
  },
  {
   "cell_type": "markdown",
   "metadata": {},
   "source": [
    "To remove the error values caused by the spike, I decided to delete the values above 1628. I choose that value by looking at the max value for the other days, since they did not have any spikes, and the highest value was 1628 on June 10th. "
   ]
  },
  {
   "cell_type": "code",
   "execution_count": 43,
   "metadata": {},
   "outputs": [],
   "source": [
    "# Delete error CO2 values above 1628\n",
    "co2_data = co2_data[co2_data['co2'] <= 1628]"
   ]
  },
  {
   "cell_type": "code",
   "execution_count": 44,
   "metadata": {},
   "outputs": [
    {
     "data": {
      "image/png": "[encoded data removed]",
      "text/plain": [
       "<Figure size 576x396 with 1 Axes>"
      ]
     },
     "metadata": {},
     "output_type": "display_data"
    }
   ],
   "source": [
    "# Plot a histogram of the updated CO2 data\n",
    "plotHistogram(co2_data, 'co2', 'CO2 Data')"
   ]
  },
  {
   "cell_type": "code",
   "execution_count": 45,
   "metadata": {},
   "outputs": [
    {
     "data": {
      "image/png": "[encoded data removed]",
      "text/plain": [
       "<Figure size 1152x576 with 1 Axes>"
      ]
     },
     "metadata": {},
     "output_type": "display_data"
    }
   ],
   "source": [
    "# Plot boxplots of the daily CO2 data\n",
    "plotBoxplots(co2_data, 'co2', 'CO2 Data')"
   ]
  },
  {
   "cell_type": "code",
   "execution_count": 46,
   "metadata": {},
   "outputs": [],
   "source": [
    "# Resample CO2 data to per-minute interval\n",
    "co2 = co2_data.resample('T').mean().dropna()"
   ]
  },
  {
   "cell_type": "markdown",
   "metadata": {},
   "source": [
    "### Sound Data\n",
    "\n",
    "    Type of Sensor: Electret Microphone Amplifier MAX4466  \n",
    "    Sensor Range: 0 to 20K Hz\n",
    "\n",
    "    Reference: Human speech frequencies are in the range of 500 Hz to 4,000 Hz. A young person with normal hearing can hear frequencies between approximately 20 Hz and 20,000 Hz. "
   ]
  },
  {
   "cell_type": "code",
   "execution_count": 47,
   "metadata": {},
   "outputs": [],
   "source": [
    "# Create noise dataframe with DateTimeIndex: sound_data\n",
    "sound_data = df[['sound']].copy()"
   ]
  },
  {
   "cell_type": "code",
   "execution_count": 48,
   "metadata": {},
   "outputs": [
    {
     "data": {
      "text/html": [
       "<div>\n",
       "<style scoped>\n",
       "    .dataframe tbody tr th:only-of-type {\n",
       "        vertical-align: middle;\n",
       "    }\n",
       "\n",
       "    .dataframe tbody tr th {\n",
       "        vertical-align: top;\n",
       "    }\n",
       "\n",
       "    .dataframe thead th {\n",
       "        text-align: right;\n",
       "    }\n",
       "</style>\n",
       "<table border=\"1\" class=\"dataframe\">\n",
       "  <thead>\n",
       "    <tr style=\"text-align: right;\">\n",
       "      <th></th>\n",
       "      <th>sound</th>\n",
       "    </tr>\n",
       "  </thead>\n",
       "  <tbody>\n",
       "    <tr>\n",
       "      <th>count</th>\n",
       "      <td>46275.000000</td>\n",
       "    </tr>\n",
       "    <tr>\n",
       "      <th>mean</th>\n",
       "      <td>283.936704</td>\n",
       "    </tr>\n",
       "    <tr>\n",
       "      <th>std</th>\n",
       "      <td>174.322552</td>\n",
       "    </tr>\n",
       "    <tr>\n",
       "      <th>min</th>\n",
       "      <td>0.000000</td>\n",
       "    </tr>\n",
       "    <tr>\n",
       "      <th>25%</th>\n",
       "      <td>144.000000</td>\n",
       "    </tr>\n",
       "    <tr>\n",
       "      <th>50%</th>\n",
       "      <td>145.000000</td>\n",
       "    </tr>\n",
       "    <tr>\n",
       "      <th>75%</th>\n",
       "      <td>495.000000</td>\n",
       "    </tr>\n",
       "    <tr>\n",
       "      <th>max</th>\n",
       "      <td>1023.000000</td>\n",
       "    </tr>\n",
       "  </tbody>\n",
       "</table>\n",
       "</div>"
      ],
      "text/plain": [
       "              sound\n",
       "count  46275.000000\n",
       "mean     283.936704\n",
       "std      174.322552\n",
       "min        0.000000\n",
       "25%      144.000000\n",
       "50%      145.000000\n",
       "75%      495.000000\n",
       "max     1023.000000"
      ]
     },
     "execution_count": 48,
     "metadata": {},
     "output_type": "execute_result"
    }
   ],
   "source": [
    "# Summary statistics for the sound data\n",
    "sound_data.describe()"
   ]
  },
  {
   "cell_type": "code",
   "execution_count": 49,
   "metadata": {},
   "outputs": [
    {
     "data": {
      "image/png": "[encoded data removed]",
      "text/plain": [
       "<Figure size 576x396 with 1 Axes>"
      ]
     },
     "metadata": {},
     "output_type": "display_data"
    }
   ],
   "source": [
    "# Plot a histogram of the sound data\n",
    "plotHistogram(sound_data, 'sound', 'Sound Level (Hz)')"
   ]
  },
  {
   "cell_type": "code",
   "execution_count": 50,
   "metadata": {},
   "outputs": [
    {
     "data": {
      "image/png": "[encoded data removed]",
      "text/plain": [
       "<Figure size 1152x576 with 1 Axes>"
      ]
     },
     "metadata": {},
     "output_type": "display_data"
    }
   ],
   "source": [
    "# Plot Boxplots for daily sound data\n",
    "plotBoxplots(sound_data, 'sound', 'Sound Data (Hz)')"
   ]
  },
  {
   "cell_type": "code",
   "execution_count": 51,
   "metadata": {},
   "outputs": [],
   "source": [
    "# ToDo: explore sound outliers"
   ]
  },
  {
   "cell_type": "code",
   "execution_count": 52,
   "metadata": {},
   "outputs": [],
   "source": [
    "# Resample sound data\n",
    "sound = sound_data.resample('T').mean().dropna()"
   ]
  },
  {
   "cell_type": "markdown",
   "metadata": {},
   "source": [
    "### Light Data\n",
    "\n",
    "    Type of Sensor: Photoresistor GL5537\n",
    "\n",
    "    Reference: Illuminance is measured in foot candles or lux (in the metric SI system). GSA recommends a nominal illumination level (Lumens/Square Meter lux) of 300 for conference rooms, or 500 Lux in work station space, open and closed offices, and in training rooms.\n",
    "\n",
    "    For Reference: The sensor has a light resistance of 10 Lux (30 to 50 kohm)."
   ]
  },
  {
   "cell_type": "code",
   "execution_count": 53,
   "metadata": {},
   "outputs": [],
   "source": [
    "# Create light dataframe with DateTimeIndex: light_data\n",
    "light_data = df[['light']].copy()"
   ]
  },
  {
   "cell_type": "code",
   "execution_count": 54,
   "metadata": {},
   "outputs": [
    {
     "data": {
      "text/html": [
       "<div>\n",
       "<style scoped>\n",
       "    .dataframe tbody tr th:only-of-type {\n",
       "        vertical-align: middle;\n",
       "    }\n",
       "\n",
       "    .dataframe tbody tr th {\n",
       "        vertical-align: top;\n",
       "    }\n",
       "\n",
       "    .dataframe thead th {\n",
       "        text-align: right;\n",
       "    }\n",
       "</style>\n",
       "<table border=\"1\" class=\"dataframe\">\n",
       "  <thead>\n",
       "    <tr style=\"text-align: right;\">\n",
       "      <th></th>\n",
       "      <th>light</th>\n",
       "    </tr>\n",
       "  </thead>\n",
       "  <tbody>\n",
       "    <tr>\n",
       "      <th>count</th>\n",
       "      <td>4.627500e+04</td>\n",
       "    </tr>\n",
       "    <tr>\n",
       "      <th>mean</th>\n",
       "      <td>2.923096e+03</td>\n",
       "    </tr>\n",
       "    <tr>\n",
       "      <th>std</th>\n",
       "      <td>1.494275e+05</td>\n",
       "    </tr>\n",
       "    <tr>\n",
       "      <th>min</th>\n",
       "      <td>0.000000e+00</td>\n",
       "    </tr>\n",
       "    <tr>\n",
       "      <th>25%</th>\n",
       "      <td>1.780000e+02</td>\n",
       "    </tr>\n",
       "    <tr>\n",
       "      <th>50%</th>\n",
       "      <td>2.070000e+02</td>\n",
       "    </tr>\n",
       "    <tr>\n",
       "      <th>75%</th>\n",
       "      <td>3.830000e+02</td>\n",
       "    </tr>\n",
       "    <tr>\n",
       "      <th>max</th>\n",
       "      <td>1.000000e+07</td>\n",
       "    </tr>\n",
       "  </tbody>\n",
       "</table>\n",
       "</div>"
      ],
      "text/plain": [
       "              light\n",
       "count  4.627500e+04\n",
       "mean   2.923096e+03\n",
       "std    1.494275e+05\n",
       "min    0.000000e+00\n",
       "25%    1.780000e+02\n",
       "50%    2.070000e+02\n",
       "75%    3.830000e+02\n",
       "max    1.000000e+07"
      ]
     },
     "execution_count": 54,
     "metadata": {},
     "output_type": "execute_result"
    }
   ],
   "source": [
    "# Summary statistics for the light data\n",
    "light_data.describe()"
   ]
  },
  {
   "cell_type": "markdown",
   "metadata": {},
   "source": [
    "The light sensor generated several large error values or 0 readings when it would restart. In addition, it also generated error values at the end of the day when it was turned off. In the following plot of light data on May 5th, the light values never went over 400 lux until the final seconds of the day."
   ]
  },
  {
   "cell_type": "code",
   "execution_count": 55,
   "metadata": {},
   "outputs": [
    {
     "data": {
      "text/plain": [
       "datetime\n",
       "2017-04-08 14:02:54    9306527.000\n",
       "2017-04-22 11:56:44    7718174.000\n",
       "2017-04-22 12:53:51    8308485.000\n",
       "2017-04-22 14:10:58    8016883.000\n",
       "2017-04-29 12:23:45    9999999.999\n",
       "2017-04-29 14:33:24    9999999.999\n",
       "2017-04-29 15:57:55    9999999.999\n",
       "2017-04-29 16:03:05       4042.000\n",
       "2017-04-29 16:03:10       4052.000\n",
       "2017-05-06 11:13:38    8009105.000\n",
       "2017-05-12 18:26:26    8707175.000\n",
       "2017-05-12 20:46:56    8725352.000\n",
       "2017-05-13 09:02:19    9135322.000\n",
       "2017-06-10 10:57:31    8281044.000\n",
       "2017-06-10 12:30:24    9273526.000\n",
       "Name: light, dtype: float64"
      ]
     },
     "execution_count": 55,
     "metadata": {},
     "output_type": "execute_result"
    }
   ],
   "source": [
    "# Identify the high error values\n",
    "light_max = light_data[light_data['light'] > 4000]\n",
    "light_max['light']"
   ]
  },
  {
   "cell_type": "markdown",
   "metadata": {},
   "source": [
    "While a light value of 0 is possible, it's unlikely since even with the classroom lights turned off, there still would have been light from the hallway. In addition, I concluded that these 0 values were errors since they were isolated readings, as can be seen below."
   ]
  },
  {
   "cell_type": "markdown",
   "metadata": {},
   "source": [
    "The light sensor generated several large error values or 0 readings when it would restart. In addition, it also generated error values at the end of the day when it was turned off. In the following plot of light data on May 5th, the light values never went over 400 lux until the final seconds of the day."
   ]
  },
  {
   "cell_type": "code",
   "execution_count": 56,
   "metadata": {},
   "outputs": [
    {
     "data": {
      "text/plain": [
       "datetime\n",
       "2017-03-25 11:48:22    463.0\n",
       "2017-03-25 11:48:28    454.0\n",
       "2017-03-25 11:48:34    465.0\n",
       "2017-03-25 11:48:40      0.0\n",
       "2017-03-25 11:48:46    462.0\n",
       "2017-03-25 11:48:52    461.0\n",
       "2017-03-25 11:48:58    445.0\n",
       "Name: light, dtype: float64"
      ]
     },
     "execution_count": 56,
     "metadata": {},
     "output_type": "execute_result"
    }
   ],
   "source": [
    "# Look at 0 light reading on March 25, 2017\n",
    "light_data.light['March 25, 2017 11:48:20':'March 25, 2017 11:49:00']"
   ]
  },
  {
   "cell_type": "code",
   "execution_count": 57,
   "metadata": {},
   "outputs": [
    {
     "data": {
      "image/png": "[encoded data removed]",
      "text/plain": [
       "<Figure size 576x396 with 1 Axes>"
      ]
     },
     "metadata": {},
     "output_type": "display_data"
    }
   ],
   "source": [
    "# Plot light data for May 5, 2017\n",
    "fig, ax = plt.subplots()\n",
    "\n",
    "ax.plot(light_data.loc['May 5, 2017 21:20:00':'May 5, 2017 22:00:00'])\n",
    "ax.set_title('Light Data: May 5, 2017', fontsize=16)\n",
    "ax.set_xlabel('Time of Day', fontsize=14)\n",
    "ax.set_ylabel('Light, lux', fontsize=14)\n",
    "ax.tick_params(labelsize=12)\n",
    "ax.xaxis.set_major_formatter(md.DateFormatter('%I:%M %p'))\n",
    "plt.show()"
   ]
  },
  {
   "cell_type": "code",
   "execution_count": 58,
   "metadata": {},
   "outputs": [
    {
     "data": {
      "text/plain": [
       "12"
      ]
     },
     "execution_count": 58,
     "metadata": {},
     "output_type": "execute_result"
    }
   ],
   "source": [
    "# Identify how many 0 light values are in the data\n",
    "len(light_data[light_data['light'] == 0])"
   ]
  },
  {
   "cell_type": "code",
   "execution_count": 59,
   "metadata": {},
   "outputs": [],
   "source": [
    "# Delete error 0 light values\n",
    "light_data = light_data[light_data['light'] != 0]"
   ]
  },
  {
   "cell_type": "code",
   "execution_count": 60,
   "metadata": {},
   "outputs": [],
   "source": [
    "# Delete error light values\n",
    "light_data = light_data[light_data['light'] < 4000]"
   ]
  },
  {
   "cell_type": "code",
   "execution_count": 61,
   "metadata": {},
   "outputs": [
    {
     "data": {
      "image/png": "[encoded data removed]",
      "text/plain": [
       "<Figure size 576x396 with 1 Axes>"
      ]
     },
     "metadata": {},
     "output_type": "display_data"
    }
   ],
   "source": [
    "# Plot updated histogram of light data\n",
    "plotHistogram(light_data, 'light', 'Light Level (Lux)')"
   ]
  },
  {
   "cell_type": "markdown",
   "metadata": {},
   "source": [
    "While a light value of 0 is possible, it's unlikely since even with the classroom lights turned off, there still would have been light from the hallway. In addition, I concluded that these 0 values were errors since they were isolated readings, as can be seen below."
   ]
  },
  {
   "cell_type": "code",
   "execution_count": 62,
   "metadata": {},
   "outputs": [
    {
     "data": {
      "text/plain": [
       "datetime\n",
       "2017-03-25 11:48:22    463.0\n",
       "2017-03-25 11:48:28    454.0\n",
       "2017-03-25 11:48:34    465.0\n",
       "2017-03-25 11:48:46    462.0\n",
       "2017-03-25 11:48:52    461.0\n",
       "2017-03-25 11:48:58    445.0\n",
       "Name: light, dtype: float64"
      ]
     },
     "execution_count": 62,
     "metadata": {},
     "output_type": "execute_result"
    }
   ],
   "source": [
    "# Look at 0 light reading on March 25, 2017\n",
    "light_data.light['March 25, 2017 11:48:20':'March 25, 2017 11:49:00']"
   ]
  },
  {
   "cell_type": "code",
   "execution_count": 63,
   "metadata": {
    "scrolled": true
   },
   "outputs": [
    {
     "data": {
      "image/png": "[encoded data removed]",
      "text/plain": [
       "<Figure size 1152x576 with 1 Axes>"
      ]
     },
     "metadata": {},
     "output_type": "display_data"
    }
   ],
   "source": [
    "# Plot updated box plots for light data\n",
    "plotBoxplots(light_data, 'light', 'Light Level (Lux)')"
   ]
  },
  {
   "cell_type": "code",
   "execution_count": 64,
   "metadata": {},
   "outputs": [],
   "source": [
    "# ToDo: look into the remaining outliers"
   ]
  },
  {
   "cell_type": "code",
   "execution_count": 65,
   "metadata": {},
   "outputs": [],
   "source": [
    "# Resample light data\n",
    "light = light_data.resample('T').mean().dropna()"
   ]
  },
  {
   "cell_type": "code",
   "execution_count": 66,
   "metadata": {},
   "outputs": [
    {
     "data": {
      "text/html": [
       "<div>\n",
       "<style scoped>\n",
       "    .dataframe tbody tr th:only-of-type {\n",
       "        vertical-align: middle;\n",
       "    }\n",
       "\n",
       "    .dataframe tbody tr th {\n",
       "        vertical-align: top;\n",
       "    }\n",
       "\n",
       "    .dataframe thead th {\n",
       "        text-align: right;\n",
       "    }\n",
       "</style>\n",
       "<table border=\"1\" class=\"dataframe\">\n",
       "  <thead>\n",
       "    <tr style=\"text-align: right;\">\n",
       "      <th></th>\n",
       "      <th>light</th>\n",
       "    </tr>\n",
       "  </thead>\n",
       "  <tbody>\n",
       "    <tr>\n",
       "      <th>count</th>\n",
       "      <td>4157.000000</td>\n",
       "    </tr>\n",
       "    <tr>\n",
       "      <th>mean</th>\n",
       "      <td>418.270571</td>\n",
       "    </tr>\n",
       "    <tr>\n",
       "      <th>std</th>\n",
       "      <td>529.414280</td>\n",
       "    </tr>\n",
       "    <tr>\n",
       "      <th>min</th>\n",
       "      <td>135.000000</td>\n",
       "    </tr>\n",
       "    <tr>\n",
       "      <th>25%</th>\n",
       "      <td>178.833333</td>\n",
       "    </tr>\n",
       "    <tr>\n",
       "      <th>50%</th>\n",
       "      <td>211.000000</td>\n",
       "    </tr>\n",
       "    <tr>\n",
       "      <th>75%</th>\n",
       "      <td>383.750000</td>\n",
       "    </tr>\n",
       "    <tr>\n",
       "      <th>max</th>\n",
       "      <td>2891.583333</td>\n",
       "    </tr>\n",
       "  </tbody>\n",
       "</table>\n",
       "</div>"
      ],
      "text/plain": [
       "             light\n",
       "count  4157.000000\n",
       "mean    418.270571\n",
       "std     529.414280\n",
       "min     135.000000\n",
       "25%     178.833333\n",
       "50%     211.000000\n",
       "75%     383.750000\n",
       "max    2891.583333"
      ]
     },
     "execution_count": 66,
     "metadata": {},
     "output_type": "execute_result"
    }
   ],
   "source": [
    "# Updated light summary statistics\n",
    "light.describe()"
   ]
  },
  {
   "cell_type": "markdown",
   "metadata": {},
   "source": [
    "### Bluetooth Devices\n",
    "\n",
    "The Raspberry Pi 3 Model B comes with its own built in wifi and Bluetooth Low Energy (LE), so we were able to scan for the number of bluetooth devices. Since we were not able to limit the area we scanned to only our classroom, the sensor picked up devices from other classrooms. However, since we were in the same classroom each day, we still thought it could be a predictive variable."
   ]
  },
  {
   "cell_type": "code",
   "execution_count": 67,
   "metadata": {},
   "outputs": [],
   "source": [
    "# Create bluetooth devices dataframe with DateTimeIndex: bluetooth_data\n",
    "bluetooth_data = df[['bluetooth_devices']].copy()"
   ]
  },
  {
   "cell_type": "code",
   "execution_count": 68,
   "metadata": {},
   "outputs": [
    {
     "data": {
      "text/html": [
       "<div>\n",
       "<style scoped>\n",
       "    .dataframe tbody tr th:only-of-type {\n",
       "        vertical-align: middle;\n",
       "    }\n",
       "\n",
       "    .dataframe tbody tr th {\n",
       "        vertical-align: top;\n",
       "    }\n",
       "\n",
       "    .dataframe thead th {\n",
       "        text-align: right;\n",
       "    }\n",
       "</style>\n",
       "<table border=\"1\" class=\"dataframe\">\n",
       "  <thead>\n",
       "    <tr style=\"text-align: right;\">\n",
       "      <th></th>\n",
       "      <th>bluetooth_devices</th>\n",
       "    </tr>\n",
       "  </thead>\n",
       "  <tbody>\n",
       "    <tr>\n",
       "      <th>count</th>\n",
       "      <td>46275.00000</td>\n",
       "    </tr>\n",
       "    <tr>\n",
       "      <th>mean</th>\n",
       "      <td>220.83369</td>\n",
       "    </tr>\n",
       "    <tr>\n",
       "      <th>std</th>\n",
       "      <td>140.24883</td>\n",
       "    </tr>\n",
       "    <tr>\n",
       "      <th>min</th>\n",
       "      <td>0.00000</td>\n",
       "    </tr>\n",
       "    <tr>\n",
       "      <th>25%</th>\n",
       "      <td>116.00000</td>\n",
       "    </tr>\n",
       "    <tr>\n",
       "      <th>50%</th>\n",
       "      <td>181.00000</td>\n",
       "    </tr>\n",
       "    <tr>\n",
       "      <th>75%</th>\n",
       "      <td>309.00000</td>\n",
       "    </tr>\n",
       "    <tr>\n",
       "      <th>max</th>\n",
       "      <td>635.00000</td>\n",
       "    </tr>\n",
       "  </tbody>\n",
       "</table>\n",
       "</div>"
      ],
      "text/plain": [
       "       bluetooth_devices\n",
       "count        46275.00000\n",
       "mean           220.83369\n",
       "std            140.24883\n",
       "min              0.00000\n",
       "25%            116.00000\n",
       "50%            181.00000\n",
       "75%            309.00000\n",
       "max            635.00000"
      ]
     },
     "execution_count": 68,
     "metadata": {},
     "output_type": "execute_result"
    }
   ],
   "source": [
    "# Summary statistics for the bluetooth data\n",
    "bluetooth_data.describe()"
   ]
  },
  {
   "cell_type": "markdown",
   "metadata": {},
   "source": [
    "Looking at the summary statistics for `bluetooth_devices`, I was surprised that the minimum value was zero, since each of the students setting up the sensors had multiple devices emitting bluetooth signals.\n",
    "\n",
    "When I looked into the data further, I found that similar to other devices, the first value recorded for each day was incorrect. Here, on May 5th, we can see that the first value is zero and immediately jumps to 30 and continues to rise."
   ]
  },
  {
   "cell_type": "code",
   "execution_count": 69,
   "metadata": {},
   "outputs": [
    {
     "data": {
      "text/plain": [
       "datetime\n",
       "2017-05-05 18:13:53     0\n",
       "2017-05-05 18:13:58    30\n",
       "2017-05-05 18:14:03    31\n",
       "2017-05-05 18:14:08    31\n",
       "2017-05-05 18:14:13    32\n",
       "2017-05-05 18:14:18    34\n",
       "2017-05-05 18:14:23    34\n",
       "2017-05-05 18:14:28    38\n",
       "2017-05-05 18:14:33    39\n",
       "2017-05-05 18:14:38    39\n",
       "Name: bluetooth_devices, dtype: int64"
      ]
     },
     "execution_count": 69,
     "metadata": {},
     "output_type": "execute_result"
    }
   ],
   "source": [
    "# Look at the lowest values for May 5th\n",
    "bluetooth_data['bluetooth_devices']['May 5, 2017'].head(10)"
   ]
  },
  {
   "cell_type": "markdown",
   "metadata": {},
   "source": [
    "Unfortunately, unlike the other sensors, I found that when the bluetooth sensor was first started or when it randomly restarted, it would take a significant amount of time for it build back up. This can be seen by plotting the `bluetooth_devices` values for May 5, 2017. All through the morning, the number of devices is gradually increasing, until it suddenly restarts and drops to zero, and then begins slowing rising again."
   ]
  },
  {
   "cell_type": "code",
   "execution_count": 70,
   "metadata": {},
   "outputs": [
    {
     "data": {
      "image/png": "[encoded data removed]",
      "text/plain": [
       "<Figure size 864x432 with 1 Axes>"
      ]
     },
     "metadata": {},
     "output_type": "display_data"
    }
   ],
   "source": [
    "# Plot the bluetooth values for May 5, 2017\n",
    "fig, ax = plt.subplots(figsize=(12,6))\n",
    "bluetooth_data['bluetooth_devices']['2017-04-01'].plot()\n",
    "\n",
    "# Add a title and labels\n",
    "ax.set_title('Bluetooth Values for May 5, 2017', fontsize=20)\n",
    "ax.set_xlabel('Time of Day', fontsize=14)\n",
    "ax.xaxis.set_major_formatter(md.DateFormatter('%I:%M %p'))\n",
    "ax.set_ylabel('No. of Bluetooth Devices', fontsize=14)\n",
    "\n",
    "# Show the plot\n",
    "plt.show()"
   ]
  },
  {
   "cell_type": "markdown",
   "metadata": {},
   "source": [
    "Another serious issue I discovered was that there were long periods of time when the sensor only recorded zeros. For example, on April 29th, only zero values were recorded for almost an hour and a half."
   ]
  },
  {
   "cell_type": "code",
   "execution_count": 71,
   "metadata": {},
   "outputs": [
    {
     "data": {
      "image/png": "[encoded data removed]",
      "text/plain": [
       "<Figure size 864x432 with 1 Axes>"
      ]
     },
     "metadata": {},
     "output_type": "display_data"
    }
   ],
   "source": [
    "# Identify the number of 0 values\n",
    "fig, ax = plt.subplots(figsize=(12,6))\n",
    "bluetooth_data['bluetooth_devices']['2017-04-29'].plot()\n",
    "\n",
    "# Add a title and labels\n",
    "ax.set_title('Bluetooth Values for April 29, 2017', fontsize=20)\n",
    "ax.set_xlabel('Time of Day', fontsize=14)\n",
    "ax.xaxis.set_major_formatter(md.DateFormatter('%I:%M %p'))\n",
    "ax.set_ylabel('No. of Bluetooth Devices', fontsize=14)\n",
    "\n",
    "# Show the plot\n",
    "plt.show()"
   ]
  },
  {
   "cell_type": "markdown",
   "metadata": {},
   "source": [
    "Unfortunately, given these issues, I won't be able to use the bluetooth data that we collected. Initially, I had considered different methods to fill the missing data/zero values. However, after plotting the data, I don't believe that the sensor accurately captured the number of devices.\n",
    "\n",
    "I know from my own experience on campus that a large number of students and professors arrived in the morning and stayed until the end of the day, but the plots show a small number of devices each morning and then a gradual increase throughout the day. Furthermore, there is no decline during lunchtime. Our building only had one small coffee shop that sold a small selection of drinks and snacks, so for lunch the overwhelming majority of students and faculty left the building."
   ]
  },
  {
   "cell_type": "markdown",
   "metadata": {},
   "source": [
    "### Images\n",
    "\n",
    "    Type of Sensor: Raspberry Pi Camera Module v2\n",
    "\n",
    "Initially, to capture the ground truth for our dataset, our team setup an 8-megapixel camera with a wide-angle lens to take pictures of the classroom at one-minute intervals. Unfortunatly, due to time restraints, we were not able to use them for that purpose. Furthermore, when we asked our fellow students for their permission to take pictures at the beginning of the project, we had promised them that the pictures would be deleted at the end of the semester, so they are no longer available. \n",
    "\n",
    "However, our team was still able to capture data from the images by calculating the \"closeness\" based on the root-mean-square error (RMSE) between successive images. For identical images, the difference between them would be zero, so higher values indicate a greater divergence."
   ]
  },
  {
   "cell_type": "code",
   "execution_count": 72,
   "metadata": {},
   "outputs": [],
   "source": [
    "# Create image dataframe with DateTimeIndex: image_data\n",
    "image_data = pd.read_csv('../data/image_variations.csv', index_col='datetime', parse_dates=True)\n",
    "\n",
    "# Rename the rolling_rms column to image_rms\n",
    "image_data.rename({'rolling_rms':'image_rms'}, axis=1, inplace=True)"
   ]
  },
  {
   "cell_type": "code",
   "execution_count": 73,
   "metadata": {},
   "outputs": [
    {
     "data": {
      "text/html": [
       "<div>\n",
       "<style scoped>\n",
       "    .dataframe tbody tr th:only-of-type {\n",
       "        vertical-align: middle;\n",
       "    }\n",
       "\n",
       "    .dataframe tbody tr th {\n",
       "        vertical-align: top;\n",
       "    }\n",
       "\n",
       "    .dataframe thead th {\n",
       "        text-align: right;\n",
       "    }\n",
       "</style>\n",
       "<table border=\"1\" class=\"dataframe\">\n",
       "  <thead>\n",
       "    <tr style=\"text-align: right;\">\n",
       "      <th></th>\n",
       "      <th>control_F_rms</th>\n",
       "      <th>control_L_rms</th>\n",
       "      <th>image_rms</th>\n",
       "    </tr>\n",
       "  </thead>\n",
       "  <tbody>\n",
       "    <tr>\n",
       "      <th>count</th>\n",
       "      <td>4469.000000</td>\n",
       "      <td>4469.000000</td>\n",
       "      <td>4469.000000</td>\n",
       "    </tr>\n",
       "    <tr>\n",
       "      <th>mean</th>\n",
       "      <td>35.647687</td>\n",
       "      <td>34.007843</td>\n",
       "      <td>13.331265</td>\n",
       "    </tr>\n",
       "    <tr>\n",
       "      <th>std</th>\n",
       "      <td>14.392077</td>\n",
       "      <td>10.525568</td>\n",
       "      <td>5.699915</td>\n",
       "    </tr>\n",
       "    <tr>\n",
       "      <th>min</th>\n",
       "      <td>0.000000</td>\n",
       "      <td>0.000000</td>\n",
       "      <td>0.000000</td>\n",
       "    </tr>\n",
       "    <tr>\n",
       "      <th>25%</th>\n",
       "      <td>24.656496</td>\n",
       "      <td>28.102343</td>\n",
       "      <td>10.005781</td>\n",
       "    </tr>\n",
       "    <tr>\n",
       "      <th>50%</th>\n",
       "      <td>28.884805</td>\n",
       "      <td>31.930907</td>\n",
       "      <td>12.042529</td>\n",
       "    </tr>\n",
       "    <tr>\n",
       "      <th>75%</th>\n",
       "      <td>46.719821</td>\n",
       "      <td>35.002443</td>\n",
       "      <td>15.774376</td>\n",
       "    </tr>\n",
       "    <tr>\n",
       "      <th>max</th>\n",
       "      <td>70.657752</td>\n",
       "      <td>69.706517</td>\n",
       "      <td>64.560408</td>\n",
       "    </tr>\n",
       "  </tbody>\n",
       "</table>\n",
       "</div>"
      ],
      "text/plain": [
       "       control_F_rms  control_L_rms    image_rms\n",
       "count    4469.000000    4469.000000  4469.000000\n",
       "mean       35.647687      34.007843    13.331265\n",
       "std        14.392077      10.525568     5.699915\n",
       "min         0.000000       0.000000     0.000000\n",
       "25%        24.656496      28.102343    10.005781\n",
       "50%        28.884805      31.930907    12.042529\n",
       "75%        46.719821      35.002443    15.774376\n",
       "max        70.657752      69.706517    64.560408"
      ]
     },
     "execution_count": 73,
     "metadata": {},
     "output_type": "execute_result"
    }
   ],
   "source": [
    "# Summary statistics for the image data\n",
    "image_data.describe()"
   ]
  },
  {
   "cell_type": "code",
   "execution_count": 74,
   "metadata": {},
   "outputs": [
    {
     "data": {
      "text/html": [
       "<div>\n",
       "<style scoped>\n",
       "    .dataframe tbody tr th:only-of-type {\n",
       "        vertical-align: middle;\n",
       "    }\n",
       "\n",
       "    .dataframe tbody tr th {\n",
       "        vertical-align: top;\n",
       "    }\n",
       "\n",
       "    .dataframe thead th {\n",
       "        text-align: right;\n",
       "    }\n",
       "</style>\n",
       "<table border=\"1\" class=\"dataframe\">\n",
       "  <thead>\n",
       "    <tr style=\"text-align: right;\">\n",
       "      <th></th>\n",
       "      <th>control_F_rms</th>\n",
       "      <th>control_L_rms</th>\n",
       "      <th>image_rms</th>\n",
       "    </tr>\n",
       "    <tr>\n",
       "      <th>datetime</th>\n",
       "      <th></th>\n",
       "      <th></th>\n",
       "      <th></th>\n",
       "    </tr>\n",
       "  </thead>\n",
       "  <tbody>\n",
       "    <tr>\n",
       "      <th>2017-03-25 09:11:00</th>\n",
       "      <td>0.000000</td>\n",
       "      <td>68.764028</td>\n",
       "      <td>0.000000</td>\n",
       "    </tr>\n",
       "    <tr>\n",
       "      <th>2017-03-25 09:12:00</th>\n",
       "      <td>15.242697</td>\n",
       "      <td>69.110523</td>\n",
       "      <td>15.242697</td>\n",
       "    </tr>\n",
       "    <tr>\n",
       "      <th>2017-03-25 09:13:00</th>\n",
       "      <td>15.526992</td>\n",
       "      <td>69.169608</td>\n",
       "      <td>15.087697</td>\n",
       "    </tr>\n",
       "    <tr>\n",
       "      <th>2017-03-25 09:14:00</th>\n",
       "      <td>18.106792</td>\n",
       "      <td>69.253149</td>\n",
       "      <td>15.422978</td>\n",
       "    </tr>\n",
       "    <tr>\n",
       "      <th>2017-03-25 09:15:00</th>\n",
       "      <td>19.040465</td>\n",
       "      <td>69.159929</td>\n",
       "      <td>14.799398</td>\n",
       "    </tr>\n",
       "  </tbody>\n",
       "</table>\n",
       "</div>"
      ],
      "text/plain": [
       "                     control_F_rms  control_L_rms  image_rms\n",
       "datetime                                                    \n",
       "2017-03-25 09:11:00       0.000000      68.764028   0.000000\n",
       "2017-03-25 09:12:00      15.242697      69.110523  15.242697\n",
       "2017-03-25 09:13:00      15.526992      69.169608  15.087697\n",
       "2017-03-25 09:14:00      18.106792      69.253149  15.422978\n",
       "2017-03-25 09:15:00      19.040465      69.159929  14.799398"
      ]
     },
     "execution_count": 74,
     "metadata": {},
     "output_type": "execute_result"
    }
   ],
   "source": [
    "# View the first five rows of the image data\n",
    "image_data.head()"
   ]
  },
  {
   "cell_type": "markdown",
   "metadata": {},
   "source": [
    "Since we are calculating the change between successive images, the first value for each class period is zero."
   ]
  },
  {
   "cell_type": "code",
   "execution_count": 75,
   "metadata": {},
   "outputs": [
    {
     "data": {
      "text/html": [
       "<div>\n",
       "<style scoped>\n",
       "    .dataframe tbody tr th:only-of-type {\n",
       "        vertical-align: middle;\n",
       "    }\n",
       "\n",
       "    .dataframe tbody tr th {\n",
       "        vertical-align: top;\n",
       "    }\n",
       "\n",
       "    .dataframe thead th {\n",
       "        text-align: right;\n",
       "    }\n",
       "</style>\n",
       "<table border=\"1\" class=\"dataframe\">\n",
       "  <thead>\n",
       "    <tr style=\"text-align: right;\">\n",
       "      <th></th>\n",
       "      <th>control_F_rms</th>\n",
       "      <th>control_L_rms</th>\n",
       "      <th>image_rms</th>\n",
       "    </tr>\n",
       "    <tr>\n",
       "      <th>datetime</th>\n",
       "      <th></th>\n",
       "      <th></th>\n",
       "      <th></th>\n",
       "    </tr>\n",
       "  </thead>\n",
       "  <tbody>\n",
       "    <tr>\n",
       "      <th>2017-03-25 09:11:00</th>\n",
       "      <td>0.0</td>\n",
       "      <td>68.764028</td>\n",
       "      <td>0.0</td>\n",
       "    </tr>\n",
       "    <tr>\n",
       "      <th>2017-04-01 09:06:00</th>\n",
       "      <td>0.0</td>\n",
       "      <td>44.664898</td>\n",
       "      <td>0.0</td>\n",
       "    </tr>\n",
       "    <tr>\n",
       "      <th>2017-04-08 09:04:00</th>\n",
       "      <td>0.0</td>\n",
       "      <td>35.672150</td>\n",
       "      <td>0.0</td>\n",
       "    </tr>\n",
       "    <tr>\n",
       "      <th>2017-04-22 08:36:00</th>\n",
       "      <td>0.0</td>\n",
       "      <td>60.087447</td>\n",
       "      <td>0.0</td>\n",
       "    </tr>\n",
       "    <tr>\n",
       "      <th>2017-04-29 08:52:00</th>\n",
       "      <td>0.0</td>\n",
       "      <td>20.514254</td>\n",
       "      <td>0.0</td>\n",
       "    </tr>\n",
       "    <tr>\n",
       "      <th>2017-05-05 18:15:00</th>\n",
       "      <td>0.0</td>\n",
       "      <td>21.546584</td>\n",
       "      <td>0.0</td>\n",
       "    </tr>\n",
       "    <tr>\n",
       "      <th>2017-05-06 08:59:00</th>\n",
       "      <td>0.0</td>\n",
       "      <td>24.173091</td>\n",
       "      <td>0.0</td>\n",
       "    </tr>\n",
       "    <tr>\n",
       "      <th>2017-05-12 18:27:00</th>\n",
       "      <td>0.0</td>\n",
       "      <td>31.552215</td>\n",
       "      <td>0.0</td>\n",
       "    </tr>\n",
       "    <tr>\n",
       "      <th>2017-05-13 08:40:00</th>\n",
       "      <td>0.0</td>\n",
       "      <td>51.595340</td>\n",
       "      <td>0.0</td>\n",
       "    </tr>\n",
       "    <tr>\n",
       "      <th>2017-06-03 09:04:00</th>\n",
       "      <td>0.0</td>\n",
       "      <td>27.748093</td>\n",
       "      <td>0.0</td>\n",
       "    </tr>\n",
       "    <tr>\n",
       "      <th>2017-06-10 09:04:00</th>\n",
       "      <td>0.0</td>\n",
       "      <td>35.994072</td>\n",
       "      <td>0.0</td>\n",
       "    </tr>\n",
       "  </tbody>\n",
       "</table>\n",
       "</div>"
      ],
      "text/plain": [
       "                     control_F_rms  control_L_rms  image_rms\n",
       "datetime                                                    \n",
       "2017-03-25 09:11:00            0.0      68.764028        0.0\n",
       "2017-04-01 09:06:00            0.0      44.664898        0.0\n",
       "2017-04-08 09:04:00            0.0      35.672150        0.0\n",
       "2017-04-22 08:36:00            0.0      60.087447        0.0\n",
       "2017-04-29 08:52:00            0.0      20.514254        0.0\n",
       "2017-05-05 18:15:00            0.0      21.546584        0.0\n",
       "2017-05-06 08:59:00            0.0      24.173091        0.0\n",
       "2017-05-12 18:27:00            0.0      31.552215        0.0\n",
       "2017-05-13 08:40:00            0.0      51.595340        0.0\n",
       "2017-06-03 09:04:00            0.0      27.748093        0.0\n",
       "2017-06-10 09:04:00            0.0      35.994072        0.0"
      ]
     },
     "execution_count": 75,
     "metadata": {},
     "output_type": "execute_result"
    }
   ],
   "source": [
    "# Identify the 0 values in the image data\n",
    "image_data[image_data['image_rms'] == 0]"
   ]
  },
  {
   "cell_type": "markdown",
   "metadata": {},
   "source": [
    "So I'll delete the zero values now and then backfill them when concatenating the image data. In addition, I can delete the `control_F_rms` and `control_L_rms` columns now, since they are no longer needed."
   ]
  },
  {
   "cell_type": "code",
   "execution_count": 76,
   "metadata": {},
   "outputs": [],
   "source": [
    "# Delete zero values in the image data\n",
    "image_data = image_data[image_data['image_rms'] != 0]\n",
    "\n",
    "# Delete the control_F_rms and control_L_rms columns from the image data\n",
    "image_data.drop(['control_F_rms', 'control_L_rms'], axis=1, inplace=True)"
   ]
  },
  {
   "cell_type": "code",
   "execution_count": 77,
   "metadata": {},
   "outputs": [
    {
     "data": {
      "image/png": "[encoded data removed]",
      "text/plain": [
       "<Figure size 576x396 with 1 Axes>"
      ]
     },
     "metadata": {},
     "output_type": "display_data"
    }
   ],
   "source": [
    "# Plot histogram of daily image data\n",
    "plotHistogram(image_data, 'image_rms', 'Daily Image Data')"
   ]
  },
  {
   "cell_type": "code",
   "execution_count": 78,
   "metadata": {},
   "outputs": [
    {
     "data": {
      "image/png": "[encoded data removed]",
      "text/plain": [
       "<Figure size 1152x576 with 1 Axes>"
      ]
     },
     "metadata": {},
     "output_type": "display_data"
    }
   ],
   "source": [
    "# Plot boxplots for daily image data\n",
    "plotBoxplots(image_data, 'image_rms', 'Daily Image Data')"
   ]
  },
  {
   "cell_type": "code",
   "execution_count": 79,
   "metadata": {},
   "outputs": [],
   "source": [
    "# ToDo: investigate outliers"
   ]
  },
  {
   "cell_type": "markdown",
   "metadata": {},
   "source": [
    "In the following chart, you can see that the largest changes occurred during our class breaks, lunch, and at the end of the day. Typically, our professors gave us a 5-10 minute break in the morning between 10:00 am and 10:30 am and in the afternoon between 2:00 pm and 2:30 pm. Our lunch break was an hour long and most often began at 12:00 pm. Class ended approximately at 4:00 pm, but typically some students stayed afterwards to talk with the professor or to meet with the teammates, so we tried to stay until 4:30 pm to capture these changes."
   ]
  },
  {
   "cell_type": "code",
   "execution_count": 80,
   "metadata": {},
   "outputs": [
    {
     "data": {
      "image/png": "[encoded data removed]",
      "text/plain": [
       "<Figure size 1152x576 with 1 Axes>"
      ]
     },
     "metadata": {},
     "output_type": "display_data"
    }
   ],
   "source": [
    "# Create the figure and the axes\n",
    "fig, ax = plt.subplots(figsize=(16,8))\n",
    "\n",
    "# Plot image data for May 6, 2017\n",
    "ax.plot(image_data.loc['May 6, 2017'])\n",
    "\n",
    "# Add title and labels\n",
    "ax.set_title('Image Data: May 6, 2017', fontsize=22)\n",
    "ax.set_xlabel('Time of Day', fontsize=16)\n",
    "ax.set_ylabel('% Change in Hist', fontsize=16)\n",
    "ax.xaxis.set_major_formatter(md.DateFormatter('%I:%M %p'))\n",
    "\n",
    "# Show plot\n",
    "plt.show()"
   ]
  },
  {
   "cell_type": "markdown",
   "metadata": {},
   "source": [
    "*Since the images were taken each minute, I don't need to resample this DataFrame.*"
   ]
  },
  {
   "cell_type": "markdown",
   "metadata": {},
   "source": [
    "### Occupancy Data\n",
    "\n",
    "Our team created a Flask web application to log the number of people in the classroom. During breaks, one team member would use it to log each person who entered or exited the room. The app also included an \"Empty Room\" option that set the counter to 0. This was used most often used during the lunch break when there was no one from our group in the classroom to keep track of the number of occupants and at the end of the day. While we had originally intended to use the images to determine the total number of students in the classroom, we ultimately had to use the data generated by the Flask app."
   ]
  },
  {
   "cell_type": "code",
   "execution_count": 81,
   "metadata": {},
   "outputs": [],
   "source": [
    "# Create occupancy count dataframe with DateTimeIndex: occupancy_data\n",
    "occupancy_data = pd.read_csv('../data/occupancy_data.csv', index_col='datetime', parse_dates=True)"
   ]
  },
  {
   "cell_type": "code",
   "execution_count": 82,
   "metadata": {},
   "outputs": [],
   "source": [
    "# Delete the unnecessary columns\n",
    "occupancy_data.drop(['location', 'count_operation', 'count_change'], axis=1, inplace=True)\n",
    "\n",
    "# Drop data for March 18, 2017\n",
    "occupancy_data.drop(occupancy_data.loc['2017-03-18'].index, inplace=True)"
   ]
  },
  {
   "cell_type": "code",
   "execution_count": 83,
   "metadata": {},
   "outputs": [
    {
     "data": {
      "text/html": [
       "<div>\n",
       "<style scoped>\n",
       "    .dataframe tbody tr th:only-of-type {\n",
       "        vertical-align: middle;\n",
       "    }\n",
       "\n",
       "    .dataframe tbody tr th {\n",
       "        vertical-align: top;\n",
       "    }\n",
       "\n",
       "    .dataframe thead th {\n",
       "        text-align: right;\n",
       "    }\n",
       "</style>\n",
       "<table border=\"1\" class=\"dataframe\">\n",
       "  <thead>\n",
       "    <tr style=\"text-align: right;\">\n",
       "      <th></th>\n",
       "      <th>count_total</th>\n",
       "    </tr>\n",
       "  </thead>\n",
       "  <tbody>\n",
       "    <tr>\n",
       "      <th>count</th>\n",
       "      <td>2298.000000</td>\n",
       "    </tr>\n",
       "    <tr>\n",
       "      <th>mean</th>\n",
       "      <td>18.888599</td>\n",
       "    </tr>\n",
       "    <tr>\n",
       "      <th>std</th>\n",
       "      <td>7.853676</td>\n",
       "    </tr>\n",
       "    <tr>\n",
       "      <th>min</th>\n",
       "      <td>0.000000</td>\n",
       "    </tr>\n",
       "    <tr>\n",
       "      <th>25%</th>\n",
       "      <td>14.000000</td>\n",
       "    </tr>\n",
       "    <tr>\n",
       "      <th>50%</th>\n",
       "      <td>20.000000</td>\n",
       "    </tr>\n",
       "    <tr>\n",
       "      <th>75%</th>\n",
       "      <td>26.000000</td>\n",
       "    </tr>\n",
       "    <tr>\n",
       "      <th>max</th>\n",
       "      <td>31.000000</td>\n",
       "    </tr>\n",
       "  </tbody>\n",
       "</table>\n",
       "</div>"
      ],
      "text/plain": [
       "       count_total\n",
       "count  2298.000000\n",
       "mean     18.888599\n",
       "std       7.853676\n",
       "min       0.000000\n",
       "25%      14.000000\n",
       "50%      20.000000\n",
       "75%      26.000000\n",
       "max      31.000000"
      ]
     },
     "execution_count": 83,
     "metadata": {},
     "output_type": "execute_result"
    }
   ],
   "source": [
    "# Occupancy summary statistics\n",
    "occupancy_data.describe()"
   ]
  },
  {
   "cell_type": "markdown",
   "metadata": {},
   "source": [
    "The occupancy data contains 21 zero values. When I looked into the source of these values, I found that eleven of them were the last values of the day. For example, you can see below that at the end of the class period on March 25th, the number of occupants had started to decline as students left for the day, until suddenly the number went from 13 to 0. \n",
    "The reason for this sharp decline would have been, that since it was the end of the day, one of our team members would have clicked the \"Empty Room\" option on the Flask app. "
   ]
  },
  {
   "cell_type": "code",
   "execution_count": 84,
   "metadata": {},
   "outputs": [
    {
     "data": {
      "text/html": [
       "<div>\n",
       "<style scoped>\n",
       "    .dataframe tbody tr th:only-of-type {\n",
       "        vertical-align: middle;\n",
       "    }\n",
       "\n",
       "    .dataframe tbody tr th {\n",
       "        vertical-align: top;\n",
       "    }\n",
       "\n",
       "    .dataframe thead th {\n",
       "        text-align: right;\n",
       "    }\n",
       "</style>\n",
       "<table border=\"1\" class=\"dataframe\">\n",
       "  <thead>\n",
       "    <tr style=\"text-align: right;\">\n",
       "      <th></th>\n",
       "      <th>count_total</th>\n",
       "    </tr>\n",
       "    <tr>\n",
       "      <th>datetime</th>\n",
       "      <th></th>\n",
       "    </tr>\n",
       "  </thead>\n",
       "  <tbody>\n",
       "    <tr>\n",
       "      <th>2017-03-25 16:15:49.514</th>\n",
       "      <td>17</td>\n",
       "    </tr>\n",
       "    <tr>\n",
       "      <th>2017-03-25 16:17:36.957</th>\n",
       "      <td>16</td>\n",
       "    </tr>\n",
       "    <tr>\n",
       "      <th>2017-03-25 16:17:38.390</th>\n",
       "      <td>15</td>\n",
       "    </tr>\n",
       "    <tr>\n",
       "      <th>2017-03-25 16:18:38.594</th>\n",
       "      <td>16</td>\n",
       "    </tr>\n",
       "    <tr>\n",
       "      <th>2017-03-25 16:18:40.765</th>\n",
       "      <td>17</td>\n",
       "    </tr>\n",
       "    <tr>\n",
       "      <th>2017-03-25 16:19:38.807</th>\n",
       "      <td>16</td>\n",
       "    </tr>\n",
       "    <tr>\n",
       "      <th>2017-03-25 16:19:39.486</th>\n",
       "      <td>15</td>\n",
       "    </tr>\n",
       "    <tr>\n",
       "      <th>2017-03-25 16:19:40.085</th>\n",
       "      <td>14</td>\n",
       "    </tr>\n",
       "    <tr>\n",
       "      <th>2017-03-25 16:32:00.619</th>\n",
       "      <td>13</td>\n",
       "    </tr>\n",
       "    <tr>\n",
       "      <th>2017-03-25 16:35:14.861</th>\n",
       "      <td>0</td>\n",
       "    </tr>\n",
       "  </tbody>\n",
       "</table>\n",
       "</div>"
      ],
      "text/plain": [
       "                         count_total\n",
       "datetime                            \n",
       "2017-03-25 16:15:49.514           17\n",
       "2017-03-25 16:17:36.957           16\n",
       "2017-03-25 16:17:38.390           15\n",
       "2017-03-25 16:18:38.594           16\n",
       "2017-03-25 16:18:40.765           17\n",
       "2017-03-25 16:19:38.807           16\n",
       "2017-03-25 16:19:39.486           15\n",
       "2017-03-25 16:19:40.085           14\n",
       "2017-03-25 16:32:00.619           13\n",
       "2017-03-25 16:35:14.861            0"
      ]
     },
     "execution_count": 84,
     "metadata": {},
     "output_type": "execute_result"
    }
   ],
   "source": [
    "# Identify the zero value at the end of March 25, 2017\n",
    "occupancy_data['2017-03-25'].tail(10)"
   ]
  },
  {
   "cell_type": "markdown",
   "metadata": {},
   "source": [
    "The remaining zero values occurred when the students left for lunch. Our team tried to stay in the room until it was empty, but sometimes a few students would remain and we needed to take our break. You can see this below as the number starts to dwindle just after noon, until the number of occupants drops from 4 to zero. Since I want to keep the last value when resampling the occupancy data, I decided to delete these zero values since they don't accurately reflect the room's occupancy level at the time. "
   ]
  },
  {
   "cell_type": "code",
   "execution_count": 85,
   "metadata": {},
   "outputs": [
    {
     "data": {
      "text/html": [
       "<div>\n",
       "<style scoped>\n",
       "    .dataframe tbody tr th:only-of-type {\n",
       "        vertical-align: middle;\n",
       "    }\n",
       "\n",
       "    .dataframe tbody tr th {\n",
       "        vertical-align: top;\n",
       "    }\n",
       "\n",
       "    .dataframe thead th {\n",
       "        text-align: right;\n",
       "    }\n",
       "</style>\n",
       "<table border=\"1\" class=\"dataframe\">\n",
       "  <thead>\n",
       "    <tr style=\"text-align: right;\">\n",
       "      <th></th>\n",
       "      <th>count_total</th>\n",
       "    </tr>\n",
       "    <tr>\n",
       "      <th>datetime</th>\n",
       "      <th></th>\n",
       "    </tr>\n",
       "  </thead>\n",
       "  <tbody>\n",
       "    <tr>\n",
       "      <th>2017-04-29 12:03:00.654</th>\n",
       "      <td>7</td>\n",
       "    </tr>\n",
       "    <tr>\n",
       "      <th>2017-04-29 12:03:08.546</th>\n",
       "      <td>6</td>\n",
       "    </tr>\n",
       "    <tr>\n",
       "      <th>2017-04-29 12:03:13.341</th>\n",
       "      <td>5</td>\n",
       "    </tr>\n",
       "    <tr>\n",
       "      <th>2017-04-29 12:03:17.889</th>\n",
       "      <td>4</td>\n",
       "    </tr>\n",
       "    <tr>\n",
       "      <th>2017-04-29 12:03:27.578</th>\n",
       "      <td>0</td>\n",
       "    </tr>\n",
       "  </tbody>\n",
       "</table>\n",
       "</div>"
      ],
      "text/plain": [
       "                         count_total\n",
       "datetime                            \n",
       "2017-04-29 12:03:00.654            7\n",
       "2017-04-29 12:03:08.546            6\n",
       "2017-04-29 12:03:13.341            5\n",
       "2017-04-29 12:03:17.889            4\n",
       "2017-04-29 12:03:27.578            0"
      ]
     },
     "execution_count": 85,
     "metadata": {},
     "output_type": "execute_result"
    }
   ],
   "source": [
    "# Identify the zero value during lunch time on April 29, 2017\n",
    "occupancy_data['2017-04-29 12:03']"
   ]
  },
  {
   "cell_type": "code",
   "execution_count": 86,
   "metadata": {},
   "outputs": [],
   "source": [
    "# Delete the 0 values from the occupancy data\n",
    "occupancy_data = occupancy_data[occupancy_data['count_total'] != 0]"
   ]
  },
  {
   "cell_type": "markdown",
   "metadata": {},
   "source": [
    "#### Resample Occupancy Data\n",
    "\n",
    "Most often, when students were entering or leaving the classroom, a large number of them would do so at the same time. For example, when leaving for lunch or coming back from a break. Therefore, the Flask app kept track of changes in milliseconds.\n",
    "\n",
    "However, I did not want to resample the occupancy data by taking the mean of the values per-minute, like the other sensor values. To understand why, below you can see that for one minute, at 8:57 am on April 29th, we had a total of 19 values recorded. If we were just take the mean of that data, it would be 9.68. However, since this was happening at a time when a large number of students were coming into the room, the room's occupancy went from 1 to 17 at that time. Therefore, when resampling the data, a more accurate measure would be to keep the last value during that time frame, which in this case would be 17."
   ]
  },
  {
   "cell_type": "code",
   "execution_count": 87,
   "metadata": {},
   "outputs": [
    {
     "data": {
      "text/html": [
       "<div>\n",
       "<style scoped>\n",
       "    .dataframe tbody tr th:only-of-type {\n",
       "        vertical-align: middle;\n",
       "    }\n",
       "\n",
       "    .dataframe tbody tr th {\n",
       "        vertical-align: top;\n",
       "    }\n",
       "\n",
       "    .dataframe thead th {\n",
       "        text-align: right;\n",
       "    }\n",
       "</style>\n",
       "<table border=\"1\" class=\"dataframe\">\n",
       "  <thead>\n",
       "    <tr style=\"text-align: right;\">\n",
       "      <th></th>\n",
       "      <th>count_total</th>\n",
       "    </tr>\n",
       "    <tr>\n",
       "      <th>datetime</th>\n",
       "      <th></th>\n",
       "    </tr>\n",
       "  </thead>\n",
       "  <tbody>\n",
       "    <tr>\n",
       "      <th>2017-04-29 08:57:14.854</th>\n",
       "      <td>1</td>\n",
       "    </tr>\n",
       "    <tr>\n",
       "      <th>2017-04-29 08:57:15.145</th>\n",
       "      <td>2</td>\n",
       "    </tr>\n",
       "    <tr>\n",
       "      <th>2017-04-29 08:57:15.409</th>\n",
       "      <td>3</td>\n",
       "    </tr>\n",
       "    <tr>\n",
       "      <th>2017-04-29 08:57:15.651</th>\n",
       "      <td>4</td>\n",
       "    </tr>\n",
       "    <tr>\n",
       "      <th>2017-04-29 08:57:15.904</th>\n",
       "      <td>5</td>\n",
       "    </tr>\n",
       "    <tr>\n",
       "      <th>2017-04-29 08:57:16.225</th>\n",
       "      <td>6</td>\n",
       "    </tr>\n",
       "    <tr>\n",
       "      <th>2017-04-29 08:57:16.505</th>\n",
       "      <td>7</td>\n",
       "    </tr>\n",
       "    <tr>\n",
       "      <th>2017-04-29 08:57:16.790</th>\n",
       "      <td>8</td>\n",
       "    </tr>\n",
       "    <tr>\n",
       "      <th>2017-04-29 08:57:17.063</th>\n",
       "      <td>9</td>\n",
       "    </tr>\n",
       "    <tr>\n",
       "      <th>2017-04-29 08:57:17.360</th>\n",
       "      <td>10</td>\n",
       "    </tr>\n",
       "    <tr>\n",
       "      <th>2017-04-29 08:57:17.648</th>\n",
       "      <td>11</td>\n",
       "    </tr>\n",
       "    <tr>\n",
       "      <th>2017-04-29 08:57:17.975</th>\n",
       "      <td>12</td>\n",
       "    </tr>\n",
       "    <tr>\n",
       "      <th>2017-04-29 08:57:18.266</th>\n",
       "      <td>13</td>\n",
       "    </tr>\n",
       "    <tr>\n",
       "      <th>2017-04-29 08:57:18.620</th>\n",
       "      <td>14</td>\n",
       "    </tr>\n",
       "    <tr>\n",
       "      <th>2017-04-29 08:57:18.940</th>\n",
       "      <td>15</td>\n",
       "    </tr>\n",
       "    <tr>\n",
       "      <th>2017-04-29 08:57:19.344</th>\n",
       "      <td>16</td>\n",
       "    </tr>\n",
       "    <tr>\n",
       "      <th>2017-04-29 08:57:24.687</th>\n",
       "      <td>15</td>\n",
       "    </tr>\n",
       "    <tr>\n",
       "      <th>2017-04-29 08:57:45.578</th>\n",
       "      <td>16</td>\n",
       "    </tr>\n",
       "    <tr>\n",
       "      <th>2017-04-29 08:57:54.742</th>\n",
       "      <td>17</td>\n",
       "    </tr>\n",
       "  </tbody>\n",
       "</table>\n",
       "</div>"
      ],
      "text/plain": [
       "                         count_total\n",
       "datetime                            \n",
       "2017-04-29 08:57:14.854            1\n",
       "2017-04-29 08:57:15.145            2\n",
       "2017-04-29 08:57:15.409            3\n",
       "2017-04-29 08:57:15.651            4\n",
       "2017-04-29 08:57:15.904            5\n",
       "2017-04-29 08:57:16.225            6\n",
       "2017-04-29 08:57:16.505            7\n",
       "2017-04-29 08:57:16.790            8\n",
       "2017-04-29 08:57:17.063            9\n",
       "2017-04-29 08:57:17.360           10\n",
       "2017-04-29 08:57:17.648           11\n",
       "2017-04-29 08:57:17.975           12\n",
       "2017-04-29 08:57:18.266           13\n",
       "2017-04-29 08:57:18.620           14\n",
       "2017-04-29 08:57:18.940           15\n",
       "2017-04-29 08:57:19.344           16\n",
       "2017-04-29 08:57:24.687           15\n",
       "2017-04-29 08:57:45.578           16\n",
       "2017-04-29 08:57:54.742           17"
      ]
     },
     "execution_count": 87,
     "metadata": {},
     "output_type": "execute_result"
    }
   ],
   "source": [
    "# Show the values for April 29 at 8:57 am\n",
    "occupancy_data['2017-04-29 08:57']"
   ]
  },
  {
   "cell_type": "code",
   "execution_count": 88,
   "metadata": {},
   "outputs": [],
   "source": [
    "# Resample occupancy data per minute and drop any NaN values\n",
    "occupancy = occupancy_data.resample(rule='T', how='last').dropna()"
   ]
  },
  {
   "cell_type": "code",
   "execution_count": 89,
   "metadata": {},
   "outputs": [
    {
     "data": {
      "image/png": "[encoded data removed]",
      "text/plain": [
       "<Figure size 1152x576 with 1 Axes>"
      ]
     },
     "metadata": {},
     "output_type": "display_data"
    }
   ],
   "source": [
    "# Plot boxplots for daily occupancy data\n",
    "plotBoxplots(occupancy, 'count_total', 'Daily Occupancy')"
   ]
  },
  {
   "cell_type": "markdown",
   "metadata": {},
   "source": [
    "## Concatenate Sensor Data\n",
    "\n",
    "Now that I've finished cleaning and resampling the individual sensor values (with the exception of the door data, which will be explained later), I'll concatenate them into a single DataFrame, backfilling any missing values."
   ]
  },
  {
   "cell_type": "code",
   "execution_count": 90,
   "metadata": {},
   "outputs": [
    {
     "name": "stdout",
     "output_type": "stream",
     "text": [
      "<class 'pandas.core.frame.DataFrame'>\n",
      "DatetimeIndex: 4519 entries, 2017-03-25 09:05:00 to 2017-06-10 16:42:00\n",
      "Data columns (total 7 columns):\n",
      "temperature    4519 non-null float64\n",
      "humidity       4519 non-null float64\n",
      "co2            4519 non-null float64\n",
      "light          4519 non-null float64\n",
      "sound          4519 non-null float64\n",
      "image_rms      4519 non-null float64\n",
      "count_total    4519 non-null float64\n",
      "dtypes: float64(7)\n",
      "memory usage: 282.4 KB\n"
     ]
    }
   ],
   "source": [
    "# Concatenate cleaned sensor data in a new dataframe: sensor_data\n",
    "sensor_data = pd.concat(\n",
    "    [temperature, humidity, co2, light, sound, image_data, occupancy], axis=1).fillna(method='bfill').dropna()\n",
    "\n",
    "sensor_data.info()"
   ]
  },
  {
   "cell_type": "markdown",
   "metadata": {},
   "source": [
    "### Door Status\n",
    "\n",
    "The door sensor is an asynchronistic categorical feature with two possible values: `closed` and `opened`. In addition, it has roughly an equal number of both values."
   ]
  },
  {
   "cell_type": "code",
   "execution_count": 91,
   "metadata": {},
   "outputs": [],
   "source": [
    "# Create door data dataframe with DateTimeIndex: door_status\n",
    "door_data = pd.read_csv('../data/door_data.csv', index_col='datetime', parse_dates=True)\n",
    "\n",
    "# Drop the location column\n",
    "door_data.drop('location', axis=1, inplace=True)"
   ]
  },
  {
   "cell_type": "code",
   "execution_count": 92,
   "metadata": {},
   "outputs": [
    {
     "data": {
      "text/html": [
       "<div>\n",
       "<style scoped>\n",
       "    .dataframe tbody tr th:only-of-type {\n",
       "        vertical-align: middle;\n",
       "    }\n",
       "\n",
       "    .dataframe tbody tr th {\n",
       "        vertical-align: top;\n",
       "    }\n",
       "\n",
       "    .dataframe thead th {\n",
       "        text-align: right;\n",
       "    }\n",
       "</style>\n",
       "<table border=\"1\" class=\"dataframe\">\n",
       "  <thead>\n",
       "    <tr style=\"text-align: right;\">\n",
       "      <th></th>\n",
       "      <th>door_status</th>\n",
       "    </tr>\n",
       "    <tr>\n",
       "      <th>datetime</th>\n",
       "      <th></th>\n",
       "    </tr>\n",
       "  </thead>\n",
       "  <tbody>\n",
       "    <tr>\n",
       "      <th>2017-03-25 09:03:28</th>\n",
       "      <td>opened</td>\n",
       "    </tr>\n",
       "    <tr>\n",
       "      <th>2017-03-25 09:03:36</th>\n",
       "      <td>closed</td>\n",
       "    </tr>\n",
       "    <tr>\n",
       "      <th>2017-03-25 09:04:09</th>\n",
       "      <td>opened</td>\n",
       "    </tr>\n",
       "    <tr>\n",
       "      <th>2017-03-25 09:04:13</th>\n",
       "      <td>closed</td>\n",
       "    </tr>\n",
       "    <tr>\n",
       "      <th>2017-03-25 09:07:14</th>\n",
       "      <td>opened</td>\n",
       "    </tr>\n",
       "  </tbody>\n",
       "</table>\n",
       "</div>"
      ],
      "text/plain": [
       "                    door_status\n",
       "datetime                       \n",
       "2017-03-25 09:03:28      opened\n",
       "2017-03-25 09:03:36      closed\n",
       "2017-03-25 09:04:09      opened\n",
       "2017-03-25 09:04:13      closed\n",
       "2017-03-25 09:07:14      opened"
      ]
     },
     "execution_count": 92,
     "metadata": {},
     "output_type": "execute_result"
    }
   ],
   "source": [
    "# View the head of the door data\n",
    "door_data.head()"
   ]
  },
  {
   "cell_type": "code",
   "execution_count": 93,
   "metadata": {},
   "outputs": [
    {
     "data": {
      "text/plain": [
       "opened    1650\n",
       "closed    1636\n",
       "Name: door_status, dtype: int64"
      ]
     },
     "execution_count": 93,
     "metadata": {},
     "output_type": "execute_result"
    }
   ],
   "source": [
    "# Count the number of each category value\n",
    "door_data['door_status'].value_counts()"
   ]
  },
  {
   "cell_type": "markdown",
   "metadata": {},
   "source": [
    "While it is a binary variable, I couldn't simply encode it with 1 for `opened` and 0 for `closed`, since I also wanted to resample the data. So instead, I started by using pandas `get_dummies` function."
   ]
  },
  {
   "cell_type": "code",
   "execution_count": 94,
   "metadata": {},
   "outputs": [
    {
     "data": {
      "text/html": [
       "<div>\n",
       "<style scoped>\n",
       "    .dataframe tbody tr th:only-of-type {\n",
       "        vertical-align: middle;\n",
       "    }\n",
       "\n",
       "    .dataframe tbody tr th {\n",
       "        vertical-align: top;\n",
       "    }\n",
       "\n",
       "    .dataframe thead th {\n",
       "        text-align: right;\n",
       "    }\n",
       "</style>\n",
       "<table border=\"1\" class=\"dataframe\">\n",
       "  <thead>\n",
       "    <tr style=\"text-align: right;\">\n",
       "      <th></th>\n",
       "      <th>door_status_closed</th>\n",
       "      <th>door_status_opened</th>\n",
       "    </tr>\n",
       "    <tr>\n",
       "      <th>datetime</th>\n",
       "      <th></th>\n",
       "      <th></th>\n",
       "    </tr>\n",
       "  </thead>\n",
       "  <tbody>\n",
       "    <tr>\n",
       "      <th>2017-03-25 09:03:28</th>\n",
       "      <td>0</td>\n",
       "      <td>1</td>\n",
       "    </tr>\n",
       "    <tr>\n",
       "      <th>2017-03-25 09:03:36</th>\n",
       "      <td>1</td>\n",
       "      <td>0</td>\n",
       "    </tr>\n",
       "    <tr>\n",
       "      <th>2017-03-25 09:04:09</th>\n",
       "      <td>0</td>\n",
       "      <td>1</td>\n",
       "    </tr>\n",
       "    <tr>\n",
       "      <th>2017-03-25 09:04:13</th>\n",
       "      <td>1</td>\n",
       "      <td>0</td>\n",
       "    </tr>\n",
       "    <tr>\n",
       "      <th>2017-03-25 09:07:14</th>\n",
       "      <td>0</td>\n",
       "      <td>1</td>\n",
       "    </tr>\n",
       "  </tbody>\n",
       "</table>\n",
       "</div>"
      ],
      "text/plain": [
       "                     door_status_closed  door_status_opened\n",
       "datetime                                                   \n",
       "2017-03-25 09:03:28                   0                   1\n",
       "2017-03-25 09:03:36                   1                   0\n",
       "2017-03-25 09:04:09                   0                   1\n",
       "2017-03-25 09:04:13                   1                   0\n",
       "2017-03-25 09:07:14                   0                   1"
      ]
     },
     "execution_count": 94,
     "metadata": {},
     "output_type": "execute_result"
    }
   ],
   "source": [
    "# Encode the door feature\n",
    "door_data = pd.get_dummies(door_data)\n",
    "\n",
    "# View the head of the door data\n",
    "door_data.head()"
   ]
  },
  {
   "cell_type": "code",
   "execution_count": 95,
   "metadata": {},
   "outputs": [
    {
     "name": "stdout",
     "output_type": "stream",
     "text": [
      "<class 'pandas.core.frame.DataFrame'>\n",
      "DatetimeIndex: 3286 entries, 2017-03-25 09:03:28 to 2017-06-10 16:42:50\n",
      "Data columns (total 2 columns):\n",
      "door_status_closed    3286 non-null uint8\n",
      "door_status_opened    3286 non-null uint8\n",
      "dtypes: uint8(2)\n",
      "memory usage: 32.1 KB\n"
     ]
    }
   ],
   "source": [
    "door_data.info()"
   ]
  },
  {
   "cell_type": "markdown",
   "metadata": {},
   "source": [
    "Then to resample the data, I want to sum the number of the times the door had opened and closed each minute, rather than calculating the mean value. However, an unexpected side effect to this strategy was that it created zero values to be generated for *every* minute between the first and last date in the dataset, even when both column values were zero. This meant going from 3,286 to 111,340 instances. "
   ]
  },
  {
   "cell_type": "code",
   "execution_count": 96,
   "metadata": {},
   "outputs": [
    {
     "data": {
      "text/html": [
       "<div>\n",
       "<style scoped>\n",
       "    .dataframe tbody tr th:only-of-type {\n",
       "        vertical-align: middle;\n",
       "    }\n",
       "\n",
       "    .dataframe tbody tr th {\n",
       "        vertical-align: top;\n",
       "    }\n",
       "\n",
       "    .dataframe thead th {\n",
       "        text-align: right;\n",
       "    }\n",
       "</style>\n",
       "<table border=\"1\" class=\"dataframe\">\n",
       "  <thead>\n",
       "    <tr style=\"text-align: right;\">\n",
       "      <th></th>\n",
       "      <th>door_status_closed</th>\n",
       "      <th>door_status_opened</th>\n",
       "    </tr>\n",
       "    <tr>\n",
       "      <th>datetime</th>\n",
       "      <th></th>\n",
       "      <th></th>\n",
       "    </tr>\n",
       "  </thead>\n",
       "  <tbody>\n",
       "    <tr>\n",
       "      <th>2017-03-25 09:03:00</th>\n",
       "      <td>1</td>\n",
       "      <td>1</td>\n",
       "    </tr>\n",
       "    <tr>\n",
       "      <th>2017-03-25 09:04:00</th>\n",
       "      <td>1</td>\n",
       "      <td>1</td>\n",
       "    </tr>\n",
       "    <tr>\n",
       "      <th>2017-03-25 09:05:00</th>\n",
       "      <td>0</td>\n",
       "      <td>0</td>\n",
       "    </tr>\n",
       "    <tr>\n",
       "      <th>2017-03-25 09:06:00</th>\n",
       "      <td>0</td>\n",
       "      <td>0</td>\n",
       "    </tr>\n",
       "    <tr>\n",
       "      <th>2017-03-25 09:07:00</th>\n",
       "      <td>1</td>\n",
       "      <td>1</td>\n",
       "    </tr>\n",
       "  </tbody>\n",
       "</table>\n",
       "</div>"
      ],
      "text/plain": [
       "                     door_status_closed  door_status_opened\n",
       "datetime                                                   \n",
       "2017-03-25 09:03:00                   1                   1\n",
       "2017-03-25 09:04:00                   1                   1\n",
       "2017-03-25 09:05:00                   0                   0\n",
       "2017-03-25 09:06:00                   0                   0\n",
       "2017-03-25 09:07:00                   1                   1"
      ]
     },
     "execution_count": 96,
     "metadata": {},
     "output_type": "execute_result"
    }
   ],
   "source": [
    "# Resample door status data\n",
    "door = door_data.resample('T').sum()\n",
    "\n",
    "# View the head of the door data\n",
    "door.head()"
   ]
  },
  {
   "cell_type": "markdown",
   "metadata": {},
   "source": [
    "So before merging the door data with the larger sensor dataset, I'll drop those rows."
   ]
  },
  {
   "cell_type": "code",
   "execution_count": 97,
   "metadata": {},
   "outputs": [],
   "source": [
    "# Drop rows where both values are zero\n",
    "door = door.drop(door[(door['door_status_closed'] == 0) & (door['door_status_opened'] == 0)].index)"
   ]
  },
  {
   "cell_type": "code",
   "execution_count": 98,
   "metadata": {},
   "outputs": [
    {
     "data": {
      "text/html": [
       "<div>\n",
       "<style scoped>\n",
       "    .dataframe tbody tr th:only-of-type {\n",
       "        vertical-align: middle;\n",
       "    }\n",
       "\n",
       "    .dataframe tbody tr th {\n",
       "        vertical-align: top;\n",
       "    }\n",
       "\n",
       "    .dataframe thead th {\n",
       "        text-align: right;\n",
       "    }\n",
       "</style>\n",
       "<table border=\"1\" class=\"dataframe\">\n",
       "  <thead>\n",
       "    <tr style=\"text-align: right;\">\n",
       "      <th></th>\n",
       "      <th>temp</th>\n",
       "      <th>humidity</th>\n",
       "      <th>co2</th>\n",
       "      <th>light</th>\n",
       "      <th>sound</th>\n",
       "      <th>images</th>\n",
       "      <th>occupancy</th>\n",
       "      <th>dr_closed</th>\n",
       "      <th>dr_opened</th>\n",
       "    </tr>\n",
       "    <tr>\n",
       "      <th>datetime</th>\n",
       "      <th></th>\n",
       "      <th></th>\n",
       "      <th></th>\n",
       "      <th></th>\n",
       "      <th></th>\n",
       "      <th></th>\n",
       "      <th></th>\n",
       "      <th></th>\n",
       "      <th></th>\n",
       "    </tr>\n",
       "  </thead>\n",
       "  <tbody>\n",
       "    <tr>\n",
       "      <th>2017-03-25 09:07:00</th>\n",
       "      <td>23.85</td>\n",
       "      <td>38.910000</td>\n",
       "      <td>768.300000</td>\n",
       "      <td>422.400000</td>\n",
       "      <td>510.400000</td>\n",
       "      <td>15.242697</td>\n",
       "      <td>15.0</td>\n",
       "      <td>1</td>\n",
       "      <td>1</td>\n",
       "    </tr>\n",
       "    <tr>\n",
       "      <th>2017-03-25 09:21:00</th>\n",
       "      <td>24.34</td>\n",
       "      <td>38.110000</td>\n",
       "      <td>841.900000</td>\n",
       "      <td>415.200000</td>\n",
       "      <td>505.300000</td>\n",
       "      <td>16.307887</td>\n",
       "      <td>29.0</td>\n",
       "      <td>0</td>\n",
       "      <td>1</td>\n",
       "    </tr>\n",
       "    <tr>\n",
       "      <th>2017-03-25 09:34:00</th>\n",
       "      <td>24.80</td>\n",
       "      <td>37.433333</td>\n",
       "      <td>937.000000</td>\n",
       "      <td>360.000000</td>\n",
       "      <td>505.000000</td>\n",
       "      <td>17.447324</td>\n",
       "      <td>29.0</td>\n",
       "      <td>0</td>\n",
       "      <td>1</td>\n",
       "    </tr>\n",
       "    <tr>\n",
       "      <th>2017-03-25 09:59:00</th>\n",
       "      <td>25.80</td>\n",
       "      <td>37.488889</td>\n",
       "      <td>1167.222222</td>\n",
       "      <td>436.777778</td>\n",
       "      <td>501.444444</td>\n",
       "      <td>16.336018</td>\n",
       "      <td>30.0</td>\n",
       "      <td>0</td>\n",
       "      <td>1</td>\n",
       "    </tr>\n",
       "    <tr>\n",
       "      <th>2017-03-25 10:16:00</th>\n",
       "      <td>25.80</td>\n",
       "      <td>37.488889</td>\n",
       "      <td>1167.222222</td>\n",
       "      <td>436.777778</td>\n",
       "      <td>501.444444</td>\n",
       "      <td>28.639320</td>\n",
       "      <td>31.0</td>\n",
       "      <td>2</td>\n",
       "      <td>1</td>\n",
       "    </tr>\n",
       "  </tbody>\n",
       "</table>\n",
       "</div>"
      ],
      "text/plain": [
       "                      temp   humidity          co2       light       sound  \\\n",
       "datetime                                                                     \n",
       "2017-03-25 09:07:00  23.85  38.910000   768.300000  422.400000  510.400000   \n",
       "2017-03-25 09:21:00  24.34  38.110000   841.900000  415.200000  505.300000   \n",
       "2017-03-25 09:34:00  24.80  37.433333   937.000000  360.000000  505.000000   \n",
       "2017-03-25 09:59:00  25.80  37.488889  1167.222222  436.777778  501.444444   \n",
       "2017-03-25 10:16:00  25.80  37.488889  1167.222222  436.777778  501.444444   \n",
       "\n",
       "                        images  occupancy  dr_closed  dr_opened  \n",
       "datetime                                                         \n",
       "2017-03-25 09:07:00  15.242697       15.0          1          1  \n",
       "2017-03-25 09:21:00  16.307887       29.0          0          1  \n",
       "2017-03-25 09:34:00  17.447324       29.0          0          1  \n",
       "2017-03-25 09:59:00  16.336018       30.0          0          1  \n",
       "2017-03-25 10:16:00  28.639320       31.0          2          1  "
      ]
     },
     "execution_count": 98,
     "metadata": {},
     "output_type": "execute_result"
    }
   ],
   "source": [
    "# Merge the resampled door data onto the sensor dataframe\n",
    "sensor_data = sensor_data.merge(door, left_index=True, right_index=True)\n",
    "\n",
    "# Rename the dataframe columns\n",
    "sensor_data.columns = [\n",
    "                      'temp', 'humidity', 'co2', 'light', 'sound',\n",
    "                      'images', 'occupancy', 'dr_closed', 'dr_opened'\n",
    "]\n",
    "\n",
    "sensor_data.head()"
   ]
  },
  {
   "cell_type": "code",
   "execution_count": 99,
   "metadata": {},
   "outputs": [
    {
     "data": {
      "text/html": [
       "<div>\n",
       "<style scoped>\n",
       "    .dataframe tbody tr th:only-of-type {\n",
       "        vertical-align: middle;\n",
       "    }\n",
       "\n",
       "    .dataframe tbody tr th {\n",
       "        vertical-align: top;\n",
       "    }\n",
       "\n",
       "    .dataframe thead th {\n",
       "        text-align: right;\n",
       "    }\n",
       "</style>\n",
       "<table border=\"1\" class=\"dataframe\">\n",
       "  <thead>\n",
       "    <tr style=\"text-align: right;\">\n",
       "      <th></th>\n",
       "      <th>temp</th>\n",
       "      <th>humidity</th>\n",
       "      <th>co2</th>\n",
       "      <th>light</th>\n",
       "      <th>sound</th>\n",
       "      <th>images</th>\n",
       "      <th>occupancy</th>\n",
       "      <th>dr_closed</th>\n",
       "      <th>dr_opened</th>\n",
       "    </tr>\n",
       "  </thead>\n",
       "  <tbody>\n",
       "    <tr>\n",
       "      <th>count</th>\n",
       "      <td>915.000000</td>\n",
       "      <td>915.000000</td>\n",
       "      <td>915.000000</td>\n",
       "      <td>915.000000</td>\n",
       "      <td>915.000000</td>\n",
       "      <td>915.000000</td>\n",
       "      <td>915.000000</td>\n",
       "      <td>915.000000</td>\n",
       "      <td>915.000000</td>\n",
       "    </tr>\n",
       "    <tr>\n",
       "      <th>mean</th>\n",
       "      <td>23.213857</td>\n",
       "      <td>38.849334</td>\n",
       "      <td>1238.560280</td>\n",
       "      <td>385.335465</td>\n",
       "      <td>286.083086</td>\n",
       "      <td>16.740164</td>\n",
       "      <td>21.465574</td>\n",
       "      <td>1.785792</td>\n",
       "      <td>1.800000</td>\n",
       "    </tr>\n",
       "    <tr>\n",
       "      <th>std</th>\n",
       "      <td>1.489213</td>\n",
       "      <td>6.839061</td>\n",
       "      <td>195.264209</td>\n",
       "      <td>499.450288</td>\n",
       "      <td>176.280918</td>\n",
       "      <td>8.151946</td>\n",
       "      <td>7.880929</td>\n",
       "      <td>2.957025</td>\n",
       "      <td>2.967069</td>\n",
       "    </tr>\n",
       "    <tr>\n",
       "      <th>min</th>\n",
       "      <td>21.000000</td>\n",
       "      <td>21.200000</td>\n",
       "      <td>666.000000</td>\n",
       "      <td>135.000000</td>\n",
       "      <td>33.000000</td>\n",
       "      <td>2.196979</td>\n",
       "      <td>1.000000</td>\n",
       "      <td>0.000000</td>\n",
       "      <td>0.000000</td>\n",
       "    </tr>\n",
       "    <tr>\n",
       "      <th>25%</th>\n",
       "      <td>22.454167</td>\n",
       "      <td>37.586667</td>\n",
       "      <td>1120.909091</td>\n",
       "      <td>174.916667</td>\n",
       "      <td>143.591667</td>\n",
       "      <td>11.514630</td>\n",
       "      <td>16.000000</td>\n",
       "      <td>1.000000</td>\n",
       "      <td>1.000000</td>\n",
       "    </tr>\n",
       "    <tr>\n",
       "      <th>50%</th>\n",
       "      <td>22.900000</td>\n",
       "      <td>39.425000</td>\n",
       "      <td>1260.000000</td>\n",
       "      <td>194.333333</td>\n",
       "      <td>144.166667</td>\n",
       "      <td>15.311687</td>\n",
       "      <td>24.000000</td>\n",
       "      <td>1.000000</td>\n",
       "      <td>1.000000</td>\n",
       "    </tr>\n",
       "    <tr>\n",
       "      <th>75%</th>\n",
       "      <td>23.300000</td>\n",
       "      <td>42.904167</td>\n",
       "      <td>1386.500000</td>\n",
       "      <td>372.166667</td>\n",
       "      <td>498.111111</td>\n",
       "      <td>20.461975</td>\n",
       "      <td>28.000000</td>\n",
       "      <td>2.000000</td>\n",
       "      <td>2.000000</td>\n",
       "    </tr>\n",
       "    <tr>\n",
       "      <th>max</th>\n",
       "      <td>29.350000</td>\n",
       "      <td>50.730000</td>\n",
       "      <td>1555.333333</td>\n",
       "      <td>2869.416667</td>\n",
       "      <td>574.000000</td>\n",
       "      <td>64.560408</td>\n",
       "      <td>31.000000</td>\n",
       "      <td>46.000000</td>\n",
       "      <td>47.000000</td>\n",
       "    </tr>\n",
       "  </tbody>\n",
       "</table>\n",
       "</div>"
      ],
      "text/plain": [
       "             temp    humidity          co2        light       sound  \\\n",
       "count  915.000000  915.000000   915.000000   915.000000  915.000000   \n",
       "mean    23.213857   38.849334  1238.560280   385.335465  286.083086   \n",
       "std      1.489213    6.839061   195.264209   499.450288  176.280918   \n",
       "min     21.000000   21.200000   666.000000   135.000000   33.000000   \n",
       "25%     22.454167   37.586667  1120.909091   174.916667  143.591667   \n",
       "50%     22.900000   39.425000  1260.000000   194.333333  144.166667   \n",
       "75%     23.300000   42.904167  1386.500000   372.166667  498.111111   \n",
       "max     29.350000   50.730000  1555.333333  2869.416667  574.000000   \n",
       "\n",
       "           images   occupancy   dr_closed   dr_opened  \n",
       "count  915.000000  915.000000  915.000000  915.000000  \n",
       "mean    16.740164   21.465574    1.785792    1.800000  \n",
       "std      8.151946    7.880929    2.957025    2.967069  \n",
       "min      2.196979    1.000000    0.000000    0.000000  \n",
       "25%     11.514630   16.000000    1.000000    1.000000  \n",
       "50%     15.311687   24.000000    1.000000    1.000000  \n",
       "75%     20.461975   28.000000    2.000000    2.000000  \n",
       "max     64.560408   31.000000   46.000000   47.000000  "
      ]
     },
     "execution_count": 99,
     "metadata": {},
     "output_type": "execute_result"
    }
   ],
   "source": [
    "# Summary statistics for sensor data\n",
    "sensor_data.describe()"
   ]
  },
  {
   "cell_type": "markdown",
   "metadata": {},
   "source": [
    "### Create Category Variable\n",
    "\n",
    "Finally, I'll create a new variable by splitting `occupancy` into different levels. This will be my target variable when building classification models, while I'll use `occupancy` for regression models.\n",
    "\n",
    "Unfortunately, the target variable is highly imbalanced toward high occupancy, which I did expect since the classroom was largely filled throughout the day, except during breaks and lunchtime. Our team did try to balance our dataset by leaving our sensors in the room overnight, but our plan was thwarted by a well-meaning cleaning lady."
   ]
  },
  {
   "cell_type": "code",
   "execution_count": 100,
   "metadata": {},
   "outputs": [],
   "source": [
    "# Create target array by slicing 'occupancy_count' column: occupancy_level\n",
    "sensor_data['occupancy_level'] = pd.cut(sensor_data['occupancy'], [0, 13, 25, 31],\n",
    "                                        labels=['low', 'mid-level', 'high'], include_lowest=True)"
   ]
  },
  {
   "cell_type": "code",
   "execution_count": 108,
   "metadata": {},
   "outputs": [
    {
     "data": {
      "text/html": [
       "<div>\n",
       "<style scoped>\n",
       "    .dataframe tbody tr th:only-of-type {\n",
       "        vertical-align: middle;\n",
       "    }\n",
       "\n",
       "    .dataframe tbody tr th {\n",
       "        vertical-align: top;\n",
       "    }\n",
       "\n",
       "    .dataframe thead th {\n",
       "        text-align: right;\n",
       "    }\n",
       "</style>\n",
       "<table border=\"1\" class=\"dataframe\">\n",
       "  <thead>\n",
       "    <tr style=\"text-align: right;\">\n",
       "      <th></th>\n",
       "      <th>temp</th>\n",
       "      <th>humidity</th>\n",
       "      <th>co2</th>\n",
       "      <th>light</th>\n",
       "      <th>sound</th>\n",
       "      <th>images</th>\n",
       "      <th>occupancy</th>\n",
       "      <th>dr_closed</th>\n",
       "      <th>dr_opened</th>\n",
       "      <th>occupancy_level</th>\n",
       "    </tr>\n",
       "    <tr>\n",
       "      <th>datetime</th>\n",
       "      <th></th>\n",
       "      <th></th>\n",
       "      <th></th>\n",
       "      <th></th>\n",
       "      <th></th>\n",
       "      <th></th>\n",
       "      <th></th>\n",
       "      <th></th>\n",
       "      <th></th>\n",
       "      <th></th>\n",
       "    </tr>\n",
       "  </thead>\n",
       "  <tbody>\n",
       "    <tr>\n",
       "      <th>2017-03-25 09:07:00</th>\n",
       "      <td>23.850000</td>\n",
       "      <td>38.910000</td>\n",
       "      <td>768.300000</td>\n",
       "      <td>422.400000</td>\n",
       "      <td>510.400000</td>\n",
       "      <td>15.242697</td>\n",
       "      <td>15.0</td>\n",
       "      <td>1</td>\n",
       "      <td>1</td>\n",
       "      <td>mid-level</td>\n",
       "    </tr>\n",
       "    <tr>\n",
       "      <th>2017-03-25 09:21:00</th>\n",
       "      <td>24.340000</td>\n",
       "      <td>38.110000</td>\n",
       "      <td>841.900000</td>\n",
       "      <td>415.200000</td>\n",
       "      <td>505.300000</td>\n",
       "      <td>16.307887</td>\n",
       "      <td>29.0</td>\n",
       "      <td>0</td>\n",
       "      <td>1</td>\n",
       "      <td>high</td>\n",
       "    </tr>\n",
       "    <tr>\n",
       "      <th>2017-03-25 09:34:00</th>\n",
       "      <td>24.800000</td>\n",
       "      <td>37.433333</td>\n",
       "      <td>937.000000</td>\n",
       "      <td>360.000000</td>\n",
       "      <td>505.000000</td>\n",
       "      <td>17.447324</td>\n",
       "      <td>29.0</td>\n",
       "      <td>0</td>\n",
       "      <td>1</td>\n",
       "      <td>high</td>\n",
       "    </tr>\n",
       "    <tr>\n",
       "      <th>2017-03-25 09:59:00</th>\n",
       "      <td>25.800000</td>\n",
       "      <td>37.488889</td>\n",
       "      <td>1167.222222</td>\n",
       "      <td>436.777778</td>\n",
       "      <td>501.444444</td>\n",
       "      <td>16.336018</td>\n",
       "      <td>30.0</td>\n",
       "      <td>0</td>\n",
       "      <td>1</td>\n",
       "      <td>high</td>\n",
       "    </tr>\n",
       "    <tr>\n",
       "      <th>2017-03-25 10:16:00</th>\n",
       "      <td>25.800000</td>\n",
       "      <td>37.488889</td>\n",
       "      <td>1167.222222</td>\n",
       "      <td>436.777778</td>\n",
       "      <td>501.444444</td>\n",
       "      <td>28.639320</td>\n",
       "      <td>31.0</td>\n",
       "      <td>2</td>\n",
       "      <td>1</td>\n",
       "      <td>high</td>\n",
       "    </tr>\n",
       "    <tr>\n",
       "      <th>2017-03-25 10:17:00</th>\n",
       "      <td>25.800000</td>\n",
       "      <td>37.488889</td>\n",
       "      <td>1167.222222</td>\n",
       "      <td>436.777778</td>\n",
       "      <td>501.444444</td>\n",
       "      <td>31.307884</td>\n",
       "      <td>31.0</td>\n",
       "      <td>2</td>\n",
       "      <td>2</td>\n",
       "      <td>high</td>\n",
       "    </tr>\n",
       "    <tr>\n",
       "      <th>2017-03-25 10:18:00</th>\n",
       "      <td>25.800000</td>\n",
       "      <td>37.488889</td>\n",
       "      <td>1167.222222</td>\n",
       "      <td>436.777778</td>\n",
       "      <td>501.444444</td>\n",
       "      <td>27.383427</td>\n",
       "      <td>31.0</td>\n",
       "      <td>2</td>\n",
       "      <td>2</td>\n",
       "      <td>high</td>\n",
       "    </tr>\n",
       "    <tr>\n",
       "      <th>2017-03-25 10:19:00</th>\n",
       "      <td>25.800000</td>\n",
       "      <td>37.488889</td>\n",
       "      <td>1167.222222</td>\n",
       "      <td>436.777778</td>\n",
       "      <td>501.444444</td>\n",
       "      <td>24.939213</td>\n",
       "      <td>31.0</td>\n",
       "      <td>3</td>\n",
       "      <td>4</td>\n",
       "      <td>high</td>\n",
       "    </tr>\n",
       "    <tr>\n",
       "      <th>2017-03-25 10:20:00</th>\n",
       "      <td>25.800000</td>\n",
       "      <td>37.488889</td>\n",
       "      <td>1167.222222</td>\n",
       "      <td>436.777778</td>\n",
       "      <td>501.444444</td>\n",
       "      <td>48.105349</td>\n",
       "      <td>31.0</td>\n",
       "      <td>1</td>\n",
       "      <td>0</td>\n",
       "      <td>high</td>\n",
       "    </tr>\n",
       "    <tr>\n",
       "      <th>2017-03-25 10:21:00</th>\n",
       "      <td>25.800000</td>\n",
       "      <td>37.488889</td>\n",
       "      <td>1167.222222</td>\n",
       "      <td>436.777778</td>\n",
       "      <td>501.444444</td>\n",
       "      <td>24.318602</td>\n",
       "      <td>31.0</td>\n",
       "      <td>3</td>\n",
       "      <td>3</td>\n",
       "      <td>high</td>\n",
       "    </tr>\n",
       "    <tr>\n",
       "      <th>2017-03-25 10:23:00</th>\n",
       "      <td>25.800000</td>\n",
       "      <td>37.488889</td>\n",
       "      <td>1167.222222</td>\n",
       "      <td>436.777778</td>\n",
       "      <td>501.444444</td>\n",
       "      <td>20.979913</td>\n",
       "      <td>31.0</td>\n",
       "      <td>3</td>\n",
       "      <td>3</td>\n",
       "      <td>high</td>\n",
       "    </tr>\n",
       "    <tr>\n",
       "      <th>2017-03-25 10:24:00</th>\n",
       "      <td>25.800000</td>\n",
       "      <td>37.488889</td>\n",
       "      <td>1167.222222</td>\n",
       "      <td>436.777778</td>\n",
       "      <td>501.444444</td>\n",
       "      <td>29.263700</td>\n",
       "      <td>31.0</td>\n",
       "      <td>2</td>\n",
       "      <td>2</td>\n",
       "      <td>high</td>\n",
       "    </tr>\n",
       "    <tr>\n",
       "      <th>2017-03-25 10:25:00</th>\n",
       "      <td>25.800000</td>\n",
       "      <td>37.488889</td>\n",
       "      <td>1167.222222</td>\n",
       "      <td>436.777778</td>\n",
       "      <td>501.444444</td>\n",
       "      <td>27.055787</td>\n",
       "      <td>30.0</td>\n",
       "      <td>1</td>\n",
       "      <td>2</td>\n",
       "      <td>high</td>\n",
       "    </tr>\n",
       "    <tr>\n",
       "      <th>2017-03-25 10:26:00</th>\n",
       "      <td>25.800000</td>\n",
       "      <td>37.488889</td>\n",
       "      <td>1167.222222</td>\n",
       "      <td>436.777778</td>\n",
       "      <td>501.444444</td>\n",
       "      <td>23.517936</td>\n",
       "      <td>30.0</td>\n",
       "      <td>1</td>\n",
       "      <td>0</td>\n",
       "      <td>high</td>\n",
       "    </tr>\n",
       "    <tr>\n",
       "      <th>2017-03-25 10:27:00</th>\n",
       "      <td>25.800000</td>\n",
       "      <td>37.488889</td>\n",
       "      <td>1167.222222</td>\n",
       "      <td>436.777778</td>\n",
       "      <td>501.444444</td>\n",
       "      <td>18.907887</td>\n",
       "      <td>30.0</td>\n",
       "      <td>2</td>\n",
       "      <td>2</td>\n",
       "      <td>high</td>\n",
       "    </tr>\n",
       "    <tr>\n",
       "      <th>2017-03-25 10:28:00</th>\n",
       "      <td>25.800000</td>\n",
       "      <td>37.488889</td>\n",
       "      <td>1167.222222</td>\n",
       "      <td>436.777778</td>\n",
       "      <td>501.444444</td>\n",
       "      <td>20.464679</td>\n",
       "      <td>30.0</td>\n",
       "      <td>1</td>\n",
       "      <td>1</td>\n",
       "      <td>high</td>\n",
       "    </tr>\n",
       "    <tr>\n",
       "      <th>2017-03-25 11:21:00</th>\n",
       "      <td>26.300000</td>\n",
       "      <td>37.800000</td>\n",
       "      <td>1271.181818</td>\n",
       "      <td>463.909091</td>\n",
       "      <td>501.636364</td>\n",
       "      <td>18.322237</td>\n",
       "      <td>30.0</td>\n",
       "      <td>1</td>\n",
       "      <td>1</td>\n",
       "      <td>high</td>\n",
       "    </tr>\n",
       "    <tr>\n",
       "      <th>2017-03-25 11:27:00</th>\n",
       "      <td>26.400000</td>\n",
       "      <td>37.854545</td>\n",
       "      <td>1300.727273</td>\n",
       "      <td>450.090909</td>\n",
       "      <td>504.454545</td>\n",
       "      <td>18.928688</td>\n",
       "      <td>30.0</td>\n",
       "      <td>1</td>\n",
       "      <td>1</td>\n",
       "      <td>high</td>\n",
       "    </tr>\n",
       "    <tr>\n",
       "      <th>2017-03-25 11:29:00</th>\n",
       "      <td>26.400000</td>\n",
       "      <td>37.760000</td>\n",
       "      <td>1292.200000</td>\n",
       "      <td>451.300000</td>\n",
       "      <td>495.500000</td>\n",
       "      <td>17.878920</td>\n",
       "      <td>31.0</td>\n",
       "      <td>1</td>\n",
       "      <td>1</td>\n",
       "      <td>high</td>\n",
       "    </tr>\n",
       "    <tr>\n",
       "      <th>2017-03-25 11:30:00</th>\n",
       "      <td>26.400000</td>\n",
       "      <td>37.780000</td>\n",
       "      <td>1281.000000</td>\n",
       "      <td>456.900000</td>\n",
       "      <td>507.300000</td>\n",
       "      <td>16.137173</td>\n",
       "      <td>30.0</td>\n",
       "      <td>1</td>\n",
       "      <td>1</td>\n",
       "      <td>high</td>\n",
       "    </tr>\n",
       "    <tr>\n",
       "      <th>2017-03-25 11:36:00</th>\n",
       "      <td>26.400000</td>\n",
       "      <td>37.740000</td>\n",
       "      <td>1277.300000</td>\n",
       "      <td>451.600000</td>\n",
       "      <td>506.500000</td>\n",
       "      <td>20.676417</td>\n",
       "      <td>30.0</td>\n",
       "      <td>1</td>\n",
       "      <td>1</td>\n",
       "      <td>high</td>\n",
       "    </tr>\n",
       "    <tr>\n",
       "      <th>2017-03-25 11:40:00</th>\n",
       "      <td>26.490000</td>\n",
       "      <td>37.800000</td>\n",
       "      <td>1291.400000</td>\n",
       "      <td>456.600000</td>\n",
       "      <td>506.800000</td>\n",
       "      <td>17.855466</td>\n",
       "      <td>29.0</td>\n",
       "      <td>1</td>\n",
       "      <td>1</td>\n",
       "      <td>high</td>\n",
       "    </tr>\n",
       "    <tr>\n",
       "      <th>2017-03-25 11:43:00</th>\n",
       "      <td>26.520000</td>\n",
       "      <td>37.590000</td>\n",
       "      <td>1279.600000</td>\n",
       "      <td>455.600000</td>\n",
       "      <td>509.400000</td>\n",
       "      <td>16.863425</td>\n",
       "      <td>31.0</td>\n",
       "      <td>1</td>\n",
       "      <td>1</td>\n",
       "      <td>high</td>\n",
       "    </tr>\n",
       "    <tr>\n",
       "      <th>2017-03-25 11:46:00</th>\n",
       "      <td>26.600000</td>\n",
       "      <td>37.681818</td>\n",
       "      <td>1283.545455</td>\n",
       "      <td>457.000000</td>\n",
       "      <td>503.636364</td>\n",
       "      <td>20.902857</td>\n",
       "      <td>31.0</td>\n",
       "      <td>1</td>\n",
       "      <td>1</td>\n",
       "      <td>high</td>\n",
       "    </tr>\n",
       "    <tr>\n",
       "      <th>2017-03-25 11:58:00</th>\n",
       "      <td>26.610000</td>\n",
       "      <td>37.950000</td>\n",
       "      <td>1328.300000</td>\n",
       "      <td>425.400000</td>\n",
       "      <td>501.500000</td>\n",
       "      <td>37.242906</td>\n",
       "      <td>26.0</td>\n",
       "      <td>3</td>\n",
       "      <td>3</td>\n",
       "      <td>high</td>\n",
       "    </tr>\n",
       "    <tr>\n",
       "      <th>2017-03-25 11:59:00</th>\n",
       "      <td>26.677778</td>\n",
       "      <td>38.233333</td>\n",
       "      <td>1319.888889</td>\n",
       "      <td>462.777778</td>\n",
       "      <td>506.777778</td>\n",
       "      <td>41.584437</td>\n",
       "      <td>16.0</td>\n",
       "      <td>3</td>\n",
       "      <td>3</td>\n",
       "      <td>mid-level</td>\n",
       "    </tr>\n",
       "    <tr>\n",
       "      <th>2017-03-25 12:00:00</th>\n",
       "      <td>26.700000</td>\n",
       "      <td>38.036364</td>\n",
       "      <td>1321.181818</td>\n",
       "      <td>463.363636</td>\n",
       "      <td>504.727273</td>\n",
       "      <td>54.778622</td>\n",
       "      <td>17.0</td>\n",
       "      <td>3</td>\n",
       "      <td>3</td>\n",
       "      <td>mid-level</td>\n",
       "    </tr>\n",
       "    <tr>\n",
       "      <th>2017-03-25 12:01:00</th>\n",
       "      <td>26.700000</td>\n",
       "      <td>38.020000</td>\n",
       "      <td>1318.000000</td>\n",
       "      <td>460.500000</td>\n",
       "      <td>501.300000</td>\n",
       "      <td>49.644686</td>\n",
       "      <td>11.0</td>\n",
       "      <td>2</td>\n",
       "      <td>2</td>\n",
       "      <td>low</td>\n",
       "    </tr>\n",
       "    <tr>\n",
       "      <th>2017-03-25 12:02:00</th>\n",
       "      <td>26.700000</td>\n",
       "      <td>37.990000</td>\n",
       "      <td>1282.100000</td>\n",
       "      <td>437.700000</td>\n",
       "      <td>505.100000</td>\n",
       "      <td>44.746893</td>\n",
       "      <td>9.0</td>\n",
       "      <td>2</td>\n",
       "      <td>2</td>\n",
       "      <td>low</td>\n",
       "    </tr>\n",
       "    <tr>\n",
       "      <th>2017-03-25 12:26:00</th>\n",
       "      <td>25.900000</td>\n",
       "      <td>36.970000</td>\n",
       "      <td>1048.500000</td>\n",
       "      <td>456.800000</td>\n",
       "      <td>502.600000</td>\n",
       "      <td>10.314646</td>\n",
       "      <td>9.0</td>\n",
       "      <td>3</td>\n",
       "      <td>3</td>\n",
       "      <td>low</td>\n",
       "    </tr>\n",
       "    <tr>\n",
       "      <th>...</th>\n",
       "      <td>...</td>\n",
       "      <td>...</td>\n",
       "      <td>...</td>\n",
       "      <td>...</td>\n",
       "      <td>...</td>\n",
       "      <td>...</td>\n",
       "      <td>...</td>\n",
       "      <td>...</td>\n",
       "      <td>...</td>\n",
       "      <td>...</td>\n",
       "    </tr>\n",
       "    <tr>\n",
       "      <th>2017-06-10 14:37:00</th>\n",
       "      <td>23.200000</td>\n",
       "      <td>39.600000</td>\n",
       "      <td>1470.583333</td>\n",
       "      <td>235.166667</td>\n",
       "      <td>144.083333</td>\n",
       "      <td>16.701406</td>\n",
       "      <td>25.0</td>\n",
       "      <td>1</td>\n",
       "      <td>0</td>\n",
       "      <td>mid-level</td>\n",
       "    </tr>\n",
       "    <tr>\n",
       "      <th>2017-06-10 14:38:00</th>\n",
       "      <td>23.200000</td>\n",
       "      <td>39.733333</td>\n",
       "      <td>1507.416667</td>\n",
       "      <td>212.666667</td>\n",
       "      <td>144.083333</td>\n",
       "      <td>17.715060</td>\n",
       "      <td>26.0</td>\n",
       "      <td>1</td>\n",
       "      <td>1</td>\n",
       "      <td>high</td>\n",
       "    </tr>\n",
       "    <tr>\n",
       "      <th>2017-06-10 14:39:00</th>\n",
       "      <td>23.200000</td>\n",
       "      <td>39.650000</td>\n",
       "      <td>1512.416667</td>\n",
       "      <td>241.666667</td>\n",
       "      <td>144.083333</td>\n",
       "      <td>15.774376</td>\n",
       "      <td>27.0</td>\n",
       "      <td>1</td>\n",
       "      <td>1</td>\n",
       "      <td>high</td>\n",
       "    </tr>\n",
       "    <tr>\n",
       "      <th>2017-06-10 14:43:00</th>\n",
       "      <td>23.200000</td>\n",
       "      <td>39.741667</td>\n",
       "      <td>1527.833333</td>\n",
       "      <td>208.416667</td>\n",
       "      <td>144.000000</td>\n",
       "      <td>16.458813</td>\n",
       "      <td>28.0</td>\n",
       "      <td>1</td>\n",
       "      <td>1</td>\n",
       "      <td>high</td>\n",
       "    </tr>\n",
       "    <tr>\n",
       "      <th>2017-06-10 14:53:00</th>\n",
       "      <td>23.300000</td>\n",
       "      <td>39.550000</td>\n",
       "      <td>1548.583333</td>\n",
       "      <td>213.000000</td>\n",
       "      <td>143.833333</td>\n",
       "      <td>16.484020</td>\n",
       "      <td>29.0</td>\n",
       "      <td>1</td>\n",
       "      <td>1</td>\n",
       "      <td>high</td>\n",
       "    </tr>\n",
       "    <tr>\n",
       "      <th>2017-06-10 15:22:00</th>\n",
       "      <td>23.300000</td>\n",
       "      <td>39.425000</td>\n",
       "      <td>1508.000000</td>\n",
       "      <td>197.083333</td>\n",
       "      <td>143.750000</td>\n",
       "      <td>13.939756</td>\n",
       "      <td>28.0</td>\n",
       "      <td>1</td>\n",
       "      <td>1</td>\n",
       "      <td>high</td>\n",
       "    </tr>\n",
       "    <tr>\n",
       "      <th>2017-06-10 15:23:00</th>\n",
       "      <td>23.300000</td>\n",
       "      <td>39.575000</td>\n",
       "      <td>1529.083333</td>\n",
       "      <td>207.833333</td>\n",
       "      <td>144.000000</td>\n",
       "      <td>17.327880</td>\n",
       "      <td>28.0</td>\n",
       "      <td>1</td>\n",
       "      <td>1</td>\n",
       "      <td>high</td>\n",
       "    </tr>\n",
       "    <tr>\n",
       "      <th>2017-06-10 15:25:00</th>\n",
       "      <td>23.300000</td>\n",
       "      <td>39.416667</td>\n",
       "      <td>1518.916667</td>\n",
       "      <td>196.583333</td>\n",
       "      <td>145.083333</td>\n",
       "      <td>16.681648</td>\n",
       "      <td>29.0</td>\n",
       "      <td>2</td>\n",
       "      <td>2</td>\n",
       "      <td>high</td>\n",
       "    </tr>\n",
       "    <tr>\n",
       "      <th>2017-06-10 15:27:00</th>\n",
       "      <td>23.300000</td>\n",
       "      <td>39.508333</td>\n",
       "      <td>1521.250000</td>\n",
       "      <td>214.583333</td>\n",
       "      <td>144.083333</td>\n",
       "      <td>23.195005</td>\n",
       "      <td>29.0</td>\n",
       "      <td>3</td>\n",
       "      <td>3</td>\n",
       "      <td>high</td>\n",
       "    </tr>\n",
       "    <tr>\n",
       "      <th>2017-06-10 15:28:00</th>\n",
       "      <td>23.300000</td>\n",
       "      <td>39.666667</td>\n",
       "      <td>1536.416667</td>\n",
       "      <td>194.583333</td>\n",
       "      <td>144.250000</td>\n",
       "      <td>20.992202</td>\n",
       "      <td>29.0</td>\n",
       "      <td>1</td>\n",
       "      <td>1</td>\n",
       "      <td>high</td>\n",
       "    </tr>\n",
       "    <tr>\n",
       "      <th>2017-06-10 15:31:00</th>\n",
       "      <td>23.300000</td>\n",
       "      <td>39.766667</td>\n",
       "      <td>1503.666667</td>\n",
       "      <td>190.750000</td>\n",
       "      <td>143.750000</td>\n",
       "      <td>19.344552</td>\n",
       "      <td>29.0</td>\n",
       "      <td>1</td>\n",
       "      <td>1</td>\n",
       "      <td>high</td>\n",
       "    </tr>\n",
       "    <tr>\n",
       "      <th>2017-06-10 15:37:00</th>\n",
       "      <td>23.400000</td>\n",
       "      <td>39.391667</td>\n",
       "      <td>1534.500000</td>\n",
       "      <td>198.666667</td>\n",
       "      <td>143.916667</td>\n",
       "      <td>13.084309</td>\n",
       "      <td>27.0</td>\n",
       "      <td>1</td>\n",
       "      <td>1</td>\n",
       "      <td>high</td>\n",
       "    </tr>\n",
       "    <tr>\n",
       "      <th>2017-06-10 15:56:00</th>\n",
       "      <td>23.383333</td>\n",
       "      <td>39.316667</td>\n",
       "      <td>1505.583333</td>\n",
       "      <td>204.333333</td>\n",
       "      <td>143.500000</td>\n",
       "      <td>14.141339</td>\n",
       "      <td>27.0</td>\n",
       "      <td>0</td>\n",
       "      <td>1</td>\n",
       "      <td>high</td>\n",
       "    </tr>\n",
       "    <tr>\n",
       "      <th>2017-06-10 15:57:00</th>\n",
       "      <td>23.358333</td>\n",
       "      <td>39.500000</td>\n",
       "      <td>1544.333333</td>\n",
       "      <td>205.166667</td>\n",
       "      <td>143.833333</td>\n",
       "      <td>25.062533</td>\n",
       "      <td>25.0</td>\n",
       "      <td>3</td>\n",
       "      <td>2</td>\n",
       "      <td>mid-level</td>\n",
       "    </tr>\n",
       "    <tr>\n",
       "      <th>2017-06-10 15:58:00</th>\n",
       "      <td>23.400000</td>\n",
       "      <td>39.616667</td>\n",
       "      <td>1544.916667</td>\n",
       "      <td>205.333333</td>\n",
       "      <td>144.000000</td>\n",
       "      <td>29.823052</td>\n",
       "      <td>22.0</td>\n",
       "      <td>2</td>\n",
       "      <td>3</td>\n",
       "      <td>mid-level</td>\n",
       "    </tr>\n",
       "    <tr>\n",
       "      <th>2017-06-10 15:59:00</th>\n",
       "      <td>23.400000</td>\n",
       "      <td>39.491667</td>\n",
       "      <td>1539.000000</td>\n",
       "      <td>203.750000</td>\n",
       "      <td>143.916667</td>\n",
       "      <td>28.373055</td>\n",
       "      <td>24.0</td>\n",
       "      <td>3</td>\n",
       "      <td>2</td>\n",
       "      <td>mid-level</td>\n",
       "    </tr>\n",
       "    <tr>\n",
       "      <th>2017-06-10 16:00:00</th>\n",
       "      <td>23.400000</td>\n",
       "      <td>39.508333</td>\n",
       "      <td>1545.250000</td>\n",
       "      <td>205.666667</td>\n",
       "      <td>143.750000</td>\n",
       "      <td>30.117155</td>\n",
       "      <td>21.0</td>\n",
       "      <td>3</td>\n",
       "      <td>3</td>\n",
       "      <td>mid-level</td>\n",
       "    </tr>\n",
       "    <tr>\n",
       "      <th>2017-06-10 16:01:00</th>\n",
       "      <td>23.408333</td>\n",
       "      <td>39.500000</td>\n",
       "      <td>1545.250000</td>\n",
       "      <td>207.250000</td>\n",
       "      <td>144.000000</td>\n",
       "      <td>46.760464</td>\n",
       "      <td>22.0</td>\n",
       "      <td>2</td>\n",
       "      <td>2</td>\n",
       "      <td>mid-level</td>\n",
       "    </tr>\n",
       "    <tr>\n",
       "      <th>2017-06-10 16:03:00</th>\n",
       "      <td>23.400000</td>\n",
       "      <td>39.200000</td>\n",
       "      <td>1527.333333</td>\n",
       "      <td>203.916667</td>\n",
       "      <td>143.750000</td>\n",
       "      <td>23.168872</td>\n",
       "      <td>24.0</td>\n",
       "      <td>2</td>\n",
       "      <td>2</td>\n",
       "      <td>mid-level</td>\n",
       "    </tr>\n",
       "    <tr>\n",
       "      <th>2017-06-10 16:04:00</th>\n",
       "      <td>23.400000</td>\n",
       "      <td>39.225000</td>\n",
       "      <td>1542.166667</td>\n",
       "      <td>206.833333</td>\n",
       "      <td>143.666667</td>\n",
       "      <td>26.482122</td>\n",
       "      <td>22.0</td>\n",
       "      <td>0</td>\n",
       "      <td>1</td>\n",
       "      <td>mid-level</td>\n",
       "    </tr>\n",
       "    <tr>\n",
       "      <th>2017-06-10 16:05:00</th>\n",
       "      <td>23.400000</td>\n",
       "      <td>39.466667</td>\n",
       "      <td>1538.916667</td>\n",
       "      <td>206.916667</td>\n",
       "      <td>143.750000</td>\n",
       "      <td>39.914322</td>\n",
       "      <td>20.0</td>\n",
       "      <td>2</td>\n",
       "      <td>1</td>\n",
       "      <td>mid-level</td>\n",
       "    </tr>\n",
       "    <tr>\n",
       "      <th>2017-06-10 16:06:00</th>\n",
       "      <td>23.366667</td>\n",
       "      <td>39.291667</td>\n",
       "      <td>1527.583333</td>\n",
       "      <td>208.166667</td>\n",
       "      <td>143.833333</td>\n",
       "      <td>27.623928</td>\n",
       "      <td>19.0</td>\n",
       "      <td>1</td>\n",
       "      <td>1</td>\n",
       "      <td>mid-level</td>\n",
       "    </tr>\n",
       "    <tr>\n",
       "      <th>2017-06-10 16:10:00</th>\n",
       "      <td>23.225000</td>\n",
       "      <td>39.158333</td>\n",
       "      <td>1484.500000</td>\n",
       "      <td>207.166667</td>\n",
       "      <td>143.750000</td>\n",
       "      <td>19.845609</td>\n",
       "      <td>16.0</td>\n",
       "      <td>1</td>\n",
       "      <td>1</td>\n",
       "      <td>mid-level</td>\n",
       "    </tr>\n",
       "    <tr>\n",
       "      <th>2017-06-10 16:11:00</th>\n",
       "      <td>23.200000</td>\n",
       "      <td>39.283333</td>\n",
       "      <td>1448.333333</td>\n",
       "      <td>208.583333</td>\n",
       "      <td>143.916667</td>\n",
       "      <td>30.432932</td>\n",
       "      <td>16.0</td>\n",
       "      <td>2</td>\n",
       "      <td>2</td>\n",
       "      <td>mid-level</td>\n",
       "    </tr>\n",
       "    <tr>\n",
       "      <th>2017-06-10 16:14:00</th>\n",
       "      <td>23.050000</td>\n",
       "      <td>39.483333</td>\n",
       "      <td>1486.000000</td>\n",
       "      <td>207.333333</td>\n",
       "      <td>143.833333</td>\n",
       "      <td>12.197619</td>\n",
       "      <td>15.0</td>\n",
       "      <td>1</td>\n",
       "      <td>1</td>\n",
       "      <td>mid-level</td>\n",
       "    </tr>\n",
       "    <tr>\n",
       "      <th>2017-06-10 16:17:00</th>\n",
       "      <td>22.916667</td>\n",
       "      <td>39.525000</td>\n",
       "      <td>1443.166667</td>\n",
       "      <td>200.833333</td>\n",
       "      <td>144.083333</td>\n",
       "      <td>14.463610</td>\n",
       "      <td>15.0</td>\n",
       "      <td>2</td>\n",
       "      <td>2</td>\n",
       "      <td>mid-level</td>\n",
       "    </tr>\n",
       "    <tr>\n",
       "      <th>2017-06-10 16:19:00</th>\n",
       "      <td>22.900000</td>\n",
       "      <td>39.416667</td>\n",
       "      <td>1442.333333</td>\n",
       "      <td>205.250000</td>\n",
       "      <td>144.166667</td>\n",
       "      <td>21.380954</td>\n",
       "      <td>14.0</td>\n",
       "      <td>1</td>\n",
       "      <td>1</td>\n",
       "      <td>mid-level</td>\n",
       "    </tr>\n",
       "    <tr>\n",
       "      <th>2017-06-10 16:20:00</th>\n",
       "      <td>22.908333</td>\n",
       "      <td>39.275000</td>\n",
       "      <td>1406.166667</td>\n",
       "      <td>222.250000</td>\n",
       "      <td>144.250000</td>\n",
       "      <td>20.282783</td>\n",
       "      <td>15.0</td>\n",
       "      <td>1</td>\n",
       "      <td>1</td>\n",
       "      <td>mid-level</td>\n",
       "    </tr>\n",
       "    <tr>\n",
       "      <th>2017-06-10 16:29:00</th>\n",
       "      <td>22.900000</td>\n",
       "      <td>39.258333</td>\n",
       "      <td>1384.500000</td>\n",
       "      <td>208.000000</td>\n",
       "      <td>143.833333</td>\n",
       "      <td>15.139924</td>\n",
       "      <td>14.0</td>\n",
       "      <td>1</td>\n",
       "      <td>1</td>\n",
       "      <td>mid-level</td>\n",
       "    </tr>\n",
       "    <tr>\n",
       "      <th>2017-06-10 16:42:00</th>\n",
       "      <td>22.700000</td>\n",
       "      <td>39.150000</td>\n",
       "      <td>1344.083333</td>\n",
       "      <td>213.416667</td>\n",
       "      <td>144.333333</td>\n",
       "      <td>30.911492</td>\n",
       "      <td>10.0</td>\n",
       "      <td>5</td>\n",
       "      <td>5</td>\n",
       "      <td>low</td>\n",
       "    </tr>\n",
       "  </tbody>\n",
       "</table>\n",
       "<p>915 rows × 10 columns</p>\n",
       "</div>"
      ],
      "text/plain": [
       "                          temp   humidity          co2       light  \\\n",
       "datetime                                                             \n",
       "2017-03-25 09:07:00  23.850000  38.910000   768.300000  422.400000   \n",
       "2017-03-25 09:21:00  24.340000  38.110000   841.900000  415.200000   \n",
       "2017-03-25 09:34:00  24.800000  37.433333   937.000000  360.000000   \n",
       "2017-03-25 09:59:00  25.800000  37.488889  1167.222222  436.777778   \n",
       "2017-03-25 10:16:00  25.800000  37.488889  1167.222222  436.777778   \n",
       "2017-03-25 10:17:00  25.800000  37.488889  1167.222222  436.777778   \n",
       "2017-03-25 10:18:00  25.800000  37.488889  1167.222222  436.777778   \n",
       "2017-03-25 10:19:00  25.800000  37.488889  1167.222222  436.777778   \n",
       "2017-03-25 10:20:00  25.800000  37.488889  1167.222222  436.777778   \n",
       "2017-03-25 10:21:00  25.800000  37.488889  1167.222222  436.777778   \n",
       "2017-03-25 10:23:00  25.800000  37.488889  1167.222222  436.777778   \n",
       "2017-03-25 10:24:00  25.800000  37.488889  1167.222222  436.777778   \n",
       "2017-03-25 10:25:00  25.800000  37.488889  1167.222222  436.777778   \n",
       "2017-03-25 10:26:00  25.800000  37.488889  1167.222222  436.777778   \n",
       "2017-03-25 10:27:00  25.800000  37.488889  1167.222222  436.777778   \n",
       "2017-03-25 10:28:00  25.800000  37.488889  1167.222222  436.777778   \n",
       "2017-03-25 11:21:00  26.300000  37.800000  1271.181818  463.909091   \n",
       "2017-03-25 11:27:00  26.400000  37.854545  1300.727273  450.090909   \n",
       "2017-03-25 11:29:00  26.400000  37.760000  1292.200000  451.300000   \n",
       "2017-03-25 11:30:00  26.400000  37.780000  1281.000000  456.900000   \n",
       "2017-03-25 11:36:00  26.400000  37.740000  1277.300000  451.600000   \n",
       "2017-03-25 11:40:00  26.490000  37.800000  1291.400000  456.600000   \n",
       "2017-03-25 11:43:00  26.520000  37.590000  1279.600000  455.600000   \n",
       "2017-03-25 11:46:00  26.600000  37.681818  1283.545455  457.000000   \n",
       "2017-03-25 11:58:00  26.610000  37.950000  1328.300000  425.400000   \n",
       "2017-03-25 11:59:00  26.677778  38.233333  1319.888889  462.777778   \n",
       "2017-03-25 12:00:00  26.700000  38.036364  1321.181818  463.363636   \n",
       "2017-03-25 12:01:00  26.700000  38.020000  1318.000000  460.500000   \n",
       "2017-03-25 12:02:00  26.700000  37.990000  1282.100000  437.700000   \n",
       "2017-03-25 12:26:00  25.900000  36.970000  1048.500000  456.800000   \n",
       "...                        ...        ...          ...         ...   \n",
       "2017-06-10 14:37:00  23.200000  39.600000  1470.583333  235.166667   \n",
       "2017-06-10 14:38:00  23.200000  39.733333  1507.416667  212.666667   \n",
       "2017-06-10 14:39:00  23.200000  39.650000  1512.416667  241.666667   \n",
       "2017-06-10 14:43:00  23.200000  39.741667  1527.833333  208.416667   \n",
       "2017-06-10 14:53:00  23.300000  39.550000  1548.583333  213.000000   \n",
       "2017-06-10 15:22:00  23.300000  39.425000  1508.000000  197.083333   \n",
       "2017-06-10 15:23:00  23.300000  39.575000  1529.083333  207.833333   \n",
       "2017-06-10 15:25:00  23.300000  39.416667  1518.916667  196.583333   \n",
       "2017-06-10 15:27:00  23.300000  39.508333  1521.250000  214.583333   \n",
       "2017-06-10 15:28:00  23.300000  39.666667  1536.416667  194.583333   \n",
       "2017-06-10 15:31:00  23.300000  39.766667  1503.666667  190.750000   \n",
       "2017-06-10 15:37:00  23.400000  39.391667  1534.500000  198.666667   \n",
       "2017-06-10 15:56:00  23.383333  39.316667  1505.583333  204.333333   \n",
       "2017-06-10 15:57:00  23.358333  39.500000  1544.333333  205.166667   \n",
       "2017-06-10 15:58:00  23.400000  39.616667  1544.916667  205.333333   \n",
       "2017-06-10 15:59:00  23.400000  39.491667  1539.000000  203.750000   \n",
       "2017-06-10 16:00:00  23.400000  39.508333  1545.250000  205.666667   \n",
       "2017-06-10 16:01:00  23.408333  39.500000  1545.250000  207.250000   \n",
       "2017-06-10 16:03:00  23.400000  39.200000  1527.333333  203.916667   \n",
       "2017-06-10 16:04:00  23.400000  39.225000  1542.166667  206.833333   \n",
       "2017-06-10 16:05:00  23.400000  39.466667  1538.916667  206.916667   \n",
       "2017-06-10 16:06:00  23.366667  39.291667  1527.583333  208.166667   \n",
       "2017-06-10 16:10:00  23.225000  39.158333  1484.500000  207.166667   \n",
       "2017-06-10 16:11:00  23.200000  39.283333  1448.333333  208.583333   \n",
       "2017-06-10 16:14:00  23.050000  39.483333  1486.000000  207.333333   \n",
       "2017-06-10 16:17:00  22.916667  39.525000  1443.166667  200.833333   \n",
       "2017-06-10 16:19:00  22.900000  39.416667  1442.333333  205.250000   \n",
       "2017-06-10 16:20:00  22.908333  39.275000  1406.166667  222.250000   \n",
       "2017-06-10 16:29:00  22.900000  39.258333  1384.500000  208.000000   \n",
       "2017-06-10 16:42:00  22.700000  39.150000  1344.083333  213.416667   \n",
       "\n",
       "                          sound     images  occupancy  dr_closed  dr_opened  \\\n",
       "datetime                                                                      \n",
       "2017-03-25 09:07:00  510.400000  15.242697       15.0          1          1   \n",
       "2017-03-25 09:21:00  505.300000  16.307887       29.0          0          1   \n",
       "2017-03-25 09:34:00  505.000000  17.447324       29.0          0          1   \n",
       "2017-03-25 09:59:00  501.444444  16.336018       30.0          0          1   \n",
       "2017-03-25 10:16:00  501.444444  28.639320       31.0          2          1   \n",
       "2017-03-25 10:17:00  501.444444  31.307884       31.0          2          2   \n",
       "2017-03-25 10:18:00  501.444444  27.383427       31.0          2          2   \n",
       "2017-03-25 10:19:00  501.444444  24.939213       31.0          3          4   \n",
       "2017-03-25 10:20:00  501.444444  48.105349       31.0          1          0   \n",
       "2017-03-25 10:21:00  501.444444  24.318602       31.0          3          3   \n",
       "2017-03-25 10:23:00  501.444444  20.979913       31.0          3          3   \n",
       "2017-03-25 10:24:00  501.444444  29.263700       31.0          2          2   \n",
       "2017-03-25 10:25:00  501.444444  27.055787       30.0          1          2   \n",
       "2017-03-25 10:26:00  501.444444  23.517936       30.0          1          0   \n",
       "2017-03-25 10:27:00  501.444444  18.907887       30.0          2          2   \n",
       "2017-03-25 10:28:00  501.444444  20.464679       30.0          1          1   \n",
       "2017-03-25 11:21:00  501.636364  18.322237       30.0          1          1   \n",
       "2017-03-25 11:27:00  504.454545  18.928688       30.0          1          1   \n",
       "2017-03-25 11:29:00  495.500000  17.878920       31.0          1          1   \n",
       "2017-03-25 11:30:00  507.300000  16.137173       30.0          1          1   \n",
       "2017-03-25 11:36:00  506.500000  20.676417       30.0          1          1   \n",
       "2017-03-25 11:40:00  506.800000  17.855466       29.0          1          1   \n",
       "2017-03-25 11:43:00  509.400000  16.863425       31.0          1          1   \n",
       "2017-03-25 11:46:00  503.636364  20.902857       31.0          1          1   \n",
       "2017-03-25 11:58:00  501.500000  37.242906       26.0          3          3   \n",
       "2017-03-25 11:59:00  506.777778  41.584437       16.0          3          3   \n",
       "2017-03-25 12:00:00  504.727273  54.778622       17.0          3          3   \n",
       "2017-03-25 12:01:00  501.300000  49.644686       11.0          2          2   \n",
       "2017-03-25 12:02:00  505.100000  44.746893        9.0          2          2   \n",
       "2017-03-25 12:26:00  502.600000  10.314646        9.0          3          3   \n",
       "...                         ...        ...        ...        ...        ...   \n",
       "2017-06-10 14:37:00  144.083333  16.701406       25.0          1          0   \n",
       "2017-06-10 14:38:00  144.083333  17.715060       26.0          1          1   \n",
       "2017-06-10 14:39:00  144.083333  15.774376       27.0          1          1   \n",
       "2017-06-10 14:43:00  144.000000  16.458813       28.0          1          1   \n",
       "2017-06-10 14:53:00  143.833333  16.484020       29.0          1          1   \n",
       "2017-06-10 15:22:00  143.750000  13.939756       28.0          1          1   \n",
       "2017-06-10 15:23:00  144.000000  17.327880       28.0          1          1   \n",
       "2017-06-10 15:25:00  145.083333  16.681648       29.0          2          2   \n",
       "2017-06-10 15:27:00  144.083333  23.195005       29.0          3          3   \n",
       "2017-06-10 15:28:00  144.250000  20.992202       29.0          1          1   \n",
       "2017-06-10 15:31:00  143.750000  19.344552       29.0          1          1   \n",
       "2017-06-10 15:37:00  143.916667  13.084309       27.0          1          1   \n",
       "2017-06-10 15:56:00  143.500000  14.141339       27.0          0          1   \n",
       "2017-06-10 15:57:00  143.833333  25.062533       25.0          3          2   \n",
       "2017-06-10 15:58:00  144.000000  29.823052       22.0          2          3   \n",
       "2017-06-10 15:59:00  143.916667  28.373055       24.0          3          2   \n",
       "2017-06-10 16:00:00  143.750000  30.117155       21.0          3          3   \n",
       "2017-06-10 16:01:00  144.000000  46.760464       22.0          2          2   \n",
       "2017-06-10 16:03:00  143.750000  23.168872       24.0          2          2   \n",
       "2017-06-10 16:04:00  143.666667  26.482122       22.0          0          1   \n",
       "2017-06-10 16:05:00  143.750000  39.914322       20.0          2          1   \n",
       "2017-06-10 16:06:00  143.833333  27.623928       19.0          1          1   \n",
       "2017-06-10 16:10:00  143.750000  19.845609       16.0          1          1   \n",
       "2017-06-10 16:11:00  143.916667  30.432932       16.0          2          2   \n",
       "2017-06-10 16:14:00  143.833333  12.197619       15.0          1          1   \n",
       "2017-06-10 16:17:00  144.083333  14.463610       15.0          2          2   \n",
       "2017-06-10 16:19:00  144.166667  21.380954       14.0          1          1   \n",
       "2017-06-10 16:20:00  144.250000  20.282783       15.0          1          1   \n",
       "2017-06-10 16:29:00  143.833333  15.139924       14.0          1          1   \n",
       "2017-06-10 16:42:00  144.333333  30.911492       10.0          5          5   \n",
       "\n",
       "                    occupancy_level  \n",
       "datetime                             \n",
       "2017-03-25 09:07:00       mid-level  \n",
       "2017-03-25 09:21:00            high  \n",
       "2017-03-25 09:34:00            high  \n",
       "2017-03-25 09:59:00            high  \n",
       "2017-03-25 10:16:00            high  \n",
       "2017-03-25 10:17:00            high  \n",
       "2017-03-25 10:18:00            high  \n",
       "2017-03-25 10:19:00            high  \n",
       "2017-03-25 10:20:00            high  \n",
       "2017-03-25 10:21:00            high  \n",
       "2017-03-25 10:23:00            high  \n",
       "2017-03-25 10:24:00            high  \n",
       "2017-03-25 10:25:00            high  \n",
       "2017-03-25 10:26:00            high  \n",
       "2017-03-25 10:27:00            high  \n",
       "2017-03-25 10:28:00            high  \n",
       "2017-03-25 11:21:00            high  \n",
       "2017-03-25 11:27:00            high  \n",
       "2017-03-25 11:29:00            high  \n",
       "2017-03-25 11:30:00            high  \n",
       "2017-03-25 11:36:00            high  \n",
       "2017-03-25 11:40:00            high  \n",
       "2017-03-25 11:43:00            high  \n",
       "2017-03-25 11:46:00            high  \n",
       "2017-03-25 11:58:00            high  \n",
       "2017-03-25 11:59:00       mid-level  \n",
       "2017-03-25 12:00:00       mid-level  \n",
       "2017-03-25 12:01:00             low  \n",
       "2017-03-25 12:02:00             low  \n",
       "2017-03-25 12:26:00             low  \n",
       "...                             ...  \n",
       "2017-06-10 14:37:00       mid-level  \n",
       "2017-06-10 14:38:00            high  \n",
       "2017-06-10 14:39:00            high  \n",
       "2017-06-10 14:43:00            high  \n",
       "2017-06-10 14:53:00            high  \n",
       "2017-06-10 15:22:00            high  \n",
       "2017-06-10 15:23:00            high  \n",
       "2017-06-10 15:25:00            high  \n",
       "2017-06-10 15:27:00            high  \n",
       "2017-06-10 15:28:00            high  \n",
       "2017-06-10 15:31:00            high  \n",
       "2017-06-10 15:37:00            high  \n",
       "2017-06-10 15:56:00            high  \n",
       "2017-06-10 15:57:00       mid-level  \n",
       "2017-06-10 15:58:00       mid-level  \n",
       "2017-06-10 15:59:00       mid-level  \n",
       "2017-06-10 16:00:00       mid-level  \n",
       "2017-06-10 16:01:00       mid-level  \n",
       "2017-06-10 16:03:00       mid-level  \n",
       "2017-06-10 16:04:00       mid-level  \n",
       "2017-06-10 16:05:00       mid-level  \n",
       "2017-06-10 16:06:00       mid-level  \n",
       "2017-06-10 16:10:00       mid-level  \n",
       "2017-06-10 16:11:00       mid-level  \n",
       "2017-06-10 16:14:00       mid-level  \n",
       "2017-06-10 16:17:00       mid-level  \n",
       "2017-06-10 16:19:00       mid-level  \n",
       "2017-06-10 16:20:00       mid-level  \n",
       "2017-06-10 16:29:00       mid-level  \n",
       "2017-06-10 16:42:00             low  \n",
       "\n",
       "[915 rows x 10 columns]"
      ]
     },
     "execution_count": 108,
     "metadata": {},
     "output_type": "execute_result"
    }
   ],
   "source": [
    "sensor_data"
   ]
  },
  {
   "cell_type": "code",
   "execution_count": 101,
   "metadata": {},
   "outputs": [
    {
     "data": {
      "text/plain": [
       "high         404\n",
       "mid-level    338\n",
       "low          173\n",
       "Name: occupancy_level, dtype: int64"
      ]
     },
     "execution_count": 101,
     "metadata": {},
     "output_type": "execute_result"
    }
   ],
   "source": [
    "# Value counts for occupancy_level\n",
    "sensor_data.occupancy_level.value_counts()"
   ]
  },
  {
   "cell_type": "code",
   "execution_count": 102,
   "metadata": {},
   "outputs": [
    {
     "data": {
      "image/png": "[encoded data removed]",
      "text/plain": [
       "<Figure size 576x396 with 1 Axes>"
      ]
     },
     "metadata": {},
     "output_type": "display_data"
    }
   ],
   "source": [
    "visualizer = ClassBalance()\n",
    "visualizer.fit(sensor_data['occupancy_level'])\n",
    "visualizer.poof()"
   ]
  },
  {
   "cell_type": "code",
   "execution_count": 103,
   "metadata": {},
   "outputs": [
    {
     "name": "stdout",
     "output_type": "stream",
     "text": [
      "<class 'pandas.core.frame.DataFrame'>\n",
      "DatetimeIndex: 915 entries, 2017-03-25 09:07:00 to 2017-06-10 16:42:00\n",
      "Data columns (total 10 columns):\n",
      "temp               915 non-null float64\n",
      "humidity           915 non-null float64\n",
      "co2                915 non-null float64\n",
      "light              915 non-null float64\n",
      "sound              915 non-null float64\n",
      "images             915 non-null float64\n",
      "occupancy          915 non-null float64\n",
      "dr_closed          915 non-null uint8\n",
      "dr_opened          915 non-null uint8\n",
      "occupancy_level    915 non-null category\n",
      "dtypes: category(1), float64(7), uint8(2)\n",
      "memory usage: 60.0 KB\n"
     ]
    }
   ],
   "source": [
    "sensor_data.info()"
   ]
  },
  {
   "cell_type": "markdown",
   "metadata": {},
   "source": [
    "## Save Data"
   ]
  },
  {
   "cell_type": "code",
   "execution_count": 104,
   "metadata": {},
   "outputs": [],
   "source": [
    "# Rearrange columns\n",
    "classification_data = sensor_data[[\n",
    "    'temp', 'humidity', 'co2', 'light', 'sound', 'images',\n",
    "    'dr_closed', 'dr_opened', 'occupancy_level']]"
   ]
  },
  {
   "cell_type": "code",
   "execution_count": 105,
   "metadata": {},
   "outputs": [],
   "source": [
    "# Export sensor data for classification models to a CSV file: classification_data.csv\n",
    "classification_data.to_csv('../data/classification_data.csv')"
   ]
  },
  {
   "cell_type": "code",
   "execution_count": 106,
   "metadata": {},
   "outputs": [],
   "source": [
    "# Rearrange columns\n",
    "regression_data = sensor_data[[\n",
    "    'temp', 'humidity', 'co2', 'light', 'sound', 'images',\n",
    "    'dr_closed', 'dr_opened', 'occupancy']]"
   ]
  },
  {
   "cell_type": "code",
   "execution_count": 107,
   "metadata": {},
   "outputs": [],
   "source": [
    "# Export sensor data for regression models to a CSV file: regression_data.csv\n",
    "regression_data.to_csv('../data/regression_data.csv')"
   ]
  }
 ],
 "metadata": {
  "kernelspec": {
   "display_name": "Python 3",
   "language": "python",
   "name": "python3"
  },
  "language_info": {
   "codemirror_mode": {
    "name": "ipython",
    "version": 3
   },
   "file_extension": ".py",
   "mimetype": "text/x-python",
   "name": "python",
   "nbconvert_exporter": "python",
   "pygments_lexer": "ipython3",
   "version": "3.6.7"
  }
 },
 "nbformat": 4,
 "nbformat_minor": 2
}
